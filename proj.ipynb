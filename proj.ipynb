{
 "cells": [
  {
   "cell_type": "code",
   "execution_count": null,
   "metadata": {},
   "outputs": [],
   "source": [
    "import pandas as pd\n",
    "from langchain.chat_models import ChatOpenAI\n",
    "from langchain.schema import SystemMessage, HumanMessage\n",
    "\n",
    "# Load the dataset\n",
    "file_path = \"C:\\\\Users\\\\Devils Republic\\\\OneDrive\\\\Documents\\\\addresses_company_missing_new.csv\"\n",
    "df = pd.read_csv(file_path)\n",
    "\n",
    "# Ensure column names have no leading/trailing spaces\n",
    "df.columns = df.columns.str.strip()\n",
    "\n",
    "# Initialize LangChain LLM (Replace with your OpenAI API Key)\n",
    "llm = ChatOpenAI(model_name=\"gpt-4\", openai_api_key=\"YOUR_API_KEY\")\n",
    "\n",
    "def get_location(company, Street_Name, place):\n",
    "    \"\"\"\n",
    "    Fetch the pincode from the dataset or use GPT-4 if not found.\n",
    "    \"\"\"\n",
    "    # Convert input to lowercase for case-insensitive matching\n",
    "    company, location, place = company.lower(), Street_Name.lower(), place.lower()\n",
    "\n",
    "    # Filter dataset based on user input\n",
    "    result = df[\n",
    "        (df[\"Company Name\"].str.lower() == company) & \n",
    "        (df[\"Street Name\"].str.lower() ==  Street_Name) & \n",
    "        (df[\"Place\"].str.lower() == place)\n",
    "    ]\n",
    "\n",
    "    # If found and not NaN, return the pincode\n",
    "    if not result.empty:\n",
    "        #location = result[\"Location\"].dropna().astype(int).values  # Convert to int safely\n",
    "        if len(Street_Name) > 0:\n",
    "            return Street_Name[0]\n",
    "\n",
    "    # If not found, use GPT-4 to suggest a pincode\n",
    "    query = f\"What is the state for {place}, {location} in India?\"\n",
    "    response = llm.invoke([\n",
    "        SystemMessage(content=\"You are an AI that takes company name, street name and local place as input, your job is to find the District location and its State in India.\"),\n",
    "        HumanMessage(content=query)\n",
    "    ])\n",
    "    \n",
    "    return response.content  # Return AI-suggested pincode\n",
    "\n",
    "\n",
    "   "
   ]
  },
  {
   "cell_type": "code",
   "execution_count": 12,
   "metadata": {},
   "outputs": [],
   "source": [
    "missing_count = 0\n",
    "for index, row in df[df[\"Location\"].isna()].iterrows():\n",
    "    company, Street_Name, place = row[\"Company Name\"], row[\"Street Name\"], row[\"Place\"]\n",
    "    location = get_location(company, Street_Name, place)\n",
    "    \n",
    "    # Update DataFrame with new pincode\n",
    "    df.at[index, \"Location\"] = location\n",
    "    missing_count += 1"
   ]
  },
  {
   "cell_type": "code",
   "execution_count": 34,
   "metadata": {},
   "outputs": [
    {
     "name": "stdout",
     "output_type": "stream",
     "text": [
      "✅ location data saved as: locations_company_filled.csv\n"
     ]
    }
   ],
   "source": [
    "updated_file_path = \"locations_company_filled.csv\"\n",
    "df.to_csv(updated_file_path, index=False)\n",
    "\n",
    "#print(f\"✅ Filled {missing_count} missing pincodes. Updated dataset saved as: {updated_file_path}\")\n",
    "print(f\"✅ location data saved as: {updated_file_path}\")"
   ]
  },
  {
   "cell_type": "code",
   "execution_count": 30,
   "metadata": {},
   "outputs": [],
   "source": [
    "# Take user input\n",
    "if __name__ == \"__main__\":\n",
    "    company = input(\"Enter Company Name: \")\n",
    "    Street_Name = input(\"Enter street Name: \")\n",
    "    place = input(\"Enter Place Name: \")\n"
   ]
  },
  {
   "cell_type": "code",
   "execution_count": 31,
   "metadata": {},
   "outputs": [
    {
     "name": "stdout",
     "output_type": "stream",
     "text": [
      "The location for Madhapur, Jubilee Enclave (Delloite) is: The district for Madhapur, Jubilee Enclave in India is Ranga Reddy district and the state is Telangana.\n"
     ]
    }
   ],
   "source": [
    " # Get Pincode\n",
    "location = get_location(company,Street_Name, place)\n",
    "print(f\"The location for {place}, {Street_Name} ({company}) is: {location}\")\n"
   ]
  }
 ],
 "metadata": {
  "kernelspec": {
   "display_name": "base",
   "language": "python",
   "name": "python3"
  },
  "language_info": {
   "codemirror_mode": {
    "name": "ipython",
    "version": 3
   },
   "file_extension": ".py",
   "mimetype": "text/x-python",
   "name": "python",
   "nbconvert_exporter": "python",
   "pygments_lexer": "ipython3",
   "version": "3.12.7"
  }
 },
 "nbformat": 4,
 "nbformat_minor": 2
}
