{
 "cells": [
  {
   "cell_type": "code",
   "execution_count": 2,
   "metadata": {},
   "outputs": [
    {
     "name": "stdout",
     "output_type": "stream",
     "text": [
      "Requirement already satisfied: langchain in c:\\users\\devils republic\\appdata\\local\\programs\\python\\python313\\lib\\site-packages (0.3.7)\n",
      "Requirement already satisfied: langchain-experimental in c:\\users\\devils republic\\appdata\\local\\programs\\python\\python313\\lib\\site-packages (0.3.3)\n",
      "Requirement already satisfied: openai in c:\\users\\devils republic\\appdata\\local\\programs\\python\\python313\\lib\\site-packages (1.54.5)\n",
      "Requirement already satisfied: pymysql in c:\\users\\devils republic\\appdata\\local\\programs\\python\\python313\\lib\\site-packages (1.1.1)\n",
      "Requirement already satisfied: PyYAML>=5.3 in c:\\users\\devils republic\\appdata\\local\\programs\\python\\python313\\lib\\site-packages (from langchain) (6.0.2)\n",
      "Requirement already satisfied: SQLAlchemy<3,>=1.4 in c:\\users\\devils republic\\appdata\\local\\programs\\python\\python313\\lib\\site-packages (from langchain) (2.0.35)\n",
      "Requirement already satisfied: aiohttp<4.0.0,>=3.8.3 in c:\\users\\devils republic\\appdata\\local\\programs\\python\\python313\\lib\\site-packages (from langchain) (3.11.6)\n",
      "Requirement already satisfied: langchain-core<0.4.0,>=0.3.15 in c:\\users\\devils republic\\appdata\\local\\programs\\python\\python313\\lib\\site-packages (from langchain) (0.3.19)\n",
      "Requirement already satisfied: langchain-text-splitters<0.4.0,>=0.3.0 in c:\\users\\devils republic\\appdata\\local\\programs\\python\\python313\\lib\\site-packages (from langchain) (0.3.2)\n",
      "Requirement already satisfied: langsmith<0.2.0,>=0.1.17 in c:\\users\\devils republic\\appdata\\local\\programs\\python\\python313\\lib\\site-packages (from langchain) (0.1.143)\n",
      "Requirement already satisfied: numpy<2.0.0,>=1.26.0 in c:\\users\\devils republic\\appdata\\local\\programs\\python\\python313\\lib\\site-packages (from langchain) (1.26.4)\n",
      "Requirement already satisfied: pydantic<3.0.0,>=2.7.4 in c:\\users\\devils republic\\appdata\\local\\programs\\python\\python313\\lib\\site-packages (from langchain) (2.9.2)\n",
      "Requirement already satisfied: requests<3,>=2 in c:\\users\\devils republic\\appdata\\local\\programs\\python\\python313\\lib\\site-packages (from langchain) (2.32.3)\n",
      "Requirement already satisfied: tenacity!=8.4.0,<10,>=8.1.0 in c:\\users\\devils republic\\appdata\\local\\programs\\python\\python313\\lib\\site-packages (from langchain) (9.0.0)\n",
      "Requirement already satisfied: langchain-community<0.4.0,>=0.3.0 in c:\\users\\devils republic\\appdata\\local\\programs\\python\\python313\\lib\\site-packages (from langchain-experimental) (0.3.7)\n",
      "Requirement already satisfied: anyio<5,>=3.5.0 in c:\\users\\devils republic\\appdata\\local\\programs\\python\\python313\\lib\\site-packages (from openai) (4.6.2.post1)\n",
      "Requirement already satisfied: distro<2,>=1.7.0 in c:\\users\\devils republic\\appdata\\local\\programs\\python\\python313\\lib\\site-packages (from openai) (1.9.0)\n",
      "Requirement already satisfied: httpx<1,>=0.23.0 in c:\\users\\devils republic\\appdata\\local\\programs\\python\\python313\\lib\\site-packages (from openai) (0.27.2)\n",
      "Requirement already satisfied: jiter<1,>=0.4.0 in c:\\users\\devils republic\\appdata\\local\\programs\\python\\python313\\lib\\site-packages (from openai) (0.7.1)\n",
      "Requirement already satisfied: sniffio in c:\\users\\devils republic\\appdata\\local\\programs\\python\\python313\\lib\\site-packages (from openai) (1.3.1)\n",
      "Requirement already satisfied: tqdm>4 in c:\\users\\devils republic\\appdata\\local\\programs\\python\\python313\\lib\\site-packages (from openai) (4.67.0)\n",
      "Requirement already satisfied: typing-extensions<5,>=4.11 in c:\\users\\devils republic\\appdata\\local\\programs\\python\\python313\\lib\\site-packages (from openai) (4.12.2)\n",
      "Requirement already satisfied: aiohappyeyeballs>=2.3.0 in c:\\users\\devils republic\\appdata\\local\\programs\\python\\python313\\lib\\site-packages (from aiohttp<4.0.0,>=3.8.3->langchain) (2.4.3)\n",
      "Requirement already satisfied: aiosignal>=1.1.2 in c:\\users\\devils republic\\appdata\\local\\programs\\python\\python313\\lib\\site-packages (from aiohttp<4.0.0,>=3.8.3->langchain) (1.3.1)\n",
      "Requirement already satisfied: attrs>=17.3.0 in c:\\users\\devils republic\\appdata\\local\\programs\\python\\python313\\lib\\site-packages (from aiohttp<4.0.0,>=3.8.3->langchain) (24.2.0)\n",
      "Requirement already satisfied: frozenlist>=1.1.1 in c:\\users\\devils republic\\appdata\\local\\programs\\python\\python313\\lib\\site-packages (from aiohttp<4.0.0,>=3.8.3->langchain) (1.5.0)\n",
      "Requirement already satisfied: multidict<7.0,>=4.5 in c:\\users\\devils republic\\appdata\\local\\programs\\python\\python313\\lib\\site-packages (from aiohttp<4.0.0,>=3.8.3->langchain) (6.1.0)\n",
      "Requirement already satisfied: propcache>=0.2.0 in c:\\users\\devils republic\\appdata\\local\\programs\\python\\python313\\lib\\site-packages (from aiohttp<4.0.0,>=3.8.3->langchain) (0.2.0)\n",
      "Requirement already satisfied: yarl<2.0,>=1.17.0 in c:\\users\\devils republic\\appdata\\local\\programs\\python\\python313\\lib\\site-packages (from aiohttp<4.0.0,>=3.8.3->langchain) (1.17.2)\n",
      "Requirement already satisfied: idna>=2.8 in c:\\users\\devils republic\\appdata\\local\\programs\\python\\python313\\lib\\site-packages (from anyio<5,>=3.5.0->openai) (3.10)\n",
      "Requirement already satisfied: certifi in c:\\users\\devils republic\\appdata\\local\\programs\\python\\python313\\lib\\site-packages (from httpx<1,>=0.23.0->openai) (2024.8.30)\n",
      "Requirement already satisfied: httpcore==1.* in c:\\users\\devils republic\\appdata\\local\\programs\\python\\python313\\lib\\site-packages (from httpx<1,>=0.23.0->openai) (1.0.7)\n",
      "Requirement already satisfied: h11<0.15,>=0.13 in c:\\users\\devils republic\\appdata\\local\\programs\\python\\python313\\lib\\site-packages (from httpcore==1.*->httpx<1,>=0.23.0->openai) (0.14.0)\n",
      "Requirement already satisfied: dataclasses-json<0.7,>=0.5.7 in c:\\users\\devils republic\\appdata\\local\\programs\\python\\python313\\lib\\site-packages (from langchain-community<0.4.0,>=0.3.0->langchain-experimental) (0.6.7)\n",
      "Requirement already satisfied: httpx-sse<0.5.0,>=0.4.0 in c:\\users\\devils republic\\appdata\\local\\programs\\python\\python313\\lib\\site-packages (from langchain-community<0.4.0,>=0.3.0->langchain-experimental) (0.4.0)\n",
      "Requirement already satisfied: pydantic-settings<3.0.0,>=2.4.0 in c:\\users\\devils republic\\appdata\\local\\programs\\python\\python313\\lib\\site-packages (from langchain-community<0.4.0,>=0.3.0->langchain-experimental) (2.6.1)\n",
      "Requirement already satisfied: jsonpatch<2.0,>=1.33 in c:\\users\\devils republic\\appdata\\local\\programs\\python\\python313\\lib\\site-packages (from langchain-core<0.4.0,>=0.3.15->langchain) (1.33)\n",
      "Requirement already satisfied: packaging<25,>=23.2 in c:\\users\\devils republic\\appdata\\roaming\\python\\python313\\site-packages (from langchain-core<0.4.0,>=0.3.15->langchain) (24.2)\n",
      "Requirement already satisfied: orjson<4.0.0,>=3.9.14 in c:\\users\\devils republic\\appdata\\local\\programs\\python\\python313\\lib\\site-packages (from langsmith<0.2.0,>=0.1.17->langchain) (3.10.11)\n",
      "Requirement already satisfied: requests-toolbelt<2.0.0,>=1.0.0 in c:\\users\\devils republic\\appdata\\local\\programs\\python\\python313\\lib\\site-packages (from langsmith<0.2.0,>=0.1.17->langchain) (1.0.0)\n",
      "Requirement already satisfied: annotated-types>=0.6.0 in c:\\users\\devils republic\\appdata\\local\\programs\\python\\python313\\lib\\site-packages (from pydantic<3.0.0,>=2.7.4->langchain) (0.7.0)\n",
      "Requirement already satisfied: pydantic-core==2.23.4 in c:\\users\\devils republic\\appdata\\local\\programs\\python\\python313\\lib\\site-packages (from pydantic<3.0.0,>=2.7.4->langchain) (2.23.4)\n",
      "Requirement already satisfied: charset-normalizer<4,>=2 in c:\\users\\devils republic\\appdata\\local\\programs\\python\\python313\\lib\\site-packages (from requests<3,>=2->langchain) (3.4.0)\n",
      "Requirement already satisfied: urllib3<3,>=1.21.1 in c:\\users\\devils republic\\appdata\\local\\programs\\python\\python313\\lib\\site-packages (from requests<3,>=2->langchain) (2.2.3)\n",
      "Requirement already satisfied: colorama in c:\\users\\devils republic\\appdata\\roaming\\python\\python313\\site-packages (from tqdm>4->openai) (0.4.6)\n",
      "Requirement already satisfied: marshmallow<4.0.0,>=3.18.0 in c:\\users\\devils republic\\appdata\\local\\programs\\python\\python313\\lib\\site-packages (from dataclasses-json<0.7,>=0.5.7->langchain-community<0.4.0,>=0.3.0->langchain-experimental) (3.23.1)\n",
      "Requirement already satisfied: typing-inspect<1,>=0.4.0 in c:\\users\\devils republic\\appdata\\local\\programs\\python\\python313\\lib\\site-packages (from dataclasses-json<0.7,>=0.5.7->langchain-community<0.4.0,>=0.3.0->langchain-experimental) (0.9.0)\n",
      "Requirement already satisfied: jsonpointer>=1.9 in c:\\users\\devils republic\\appdata\\local\\programs\\python\\python313\\lib\\site-packages (from jsonpatch<2.0,>=1.33->langchain-core<0.4.0,>=0.3.15->langchain) (3.0.0)\n",
      "Requirement already satisfied: python-dotenv>=0.21.0 in c:\\users\\devils republic\\appdata\\local\\programs\\python\\python313\\lib\\site-packages (from pydantic-settings<3.0.0,>=2.4.0->langchain-community<0.4.0,>=0.3.0->langchain-experimental) (1.0.1)\n",
      "Requirement already satisfied: mypy-extensions>=0.3.0 in c:\\users\\devils republic\\appdata\\local\\programs\\python\\python313\\lib\\site-packages (from typing-inspect<1,>=0.4.0->dataclasses-json<0.7,>=0.5.7->langchain-community<0.4.0,>=0.3.0->langchain-experimental) (1.0.0)\n"
     ]
    }
   ],
   "source": [
    "!pip install langchain langchain-experimental openai pymysql"
   ]
  },
  {
   "cell_type": "code",
   "execution_count": 3,
   "metadata": {},
   "outputs": [],
   "source": [
    "from langchain.utilities import SQLDatabase\n",
    "from langchain.llms import OpenAI\n",
    "from langchain_experimental.sql import SQLDatabaseChain\n",
    "from langchain.prompts import PromptTemplate\n",
    "from langchain.prompts.chat import HumanMessagePromptTemplate\n",
    "from langchain.chat_models import ChatOpenAI\n",
    "from langchain.schema import HumanMessage, SystemMessage"
   ]
  },
  {
   "cell_type": "code",
   "execution_count": null,
   "metadata": {},
   "outputs": [
    {
     "name": "stderr",
     "output_type": "stream",
     "text": [
      "C:\\Users\\Devils Republic\\AppData\\Local\\Temp\\ipykernel_17428\\1703113971.py:2: LangChainDeprecationWarning: The class `ChatOpenAI` was deprecated in LangChain 0.0.10 and will be removed in 1.0. An updated version of the class exists in the :class:`~langchain-openai package and should be used instead. To use it run `pip install -U :class:`~langchain-openai` and import as `from :class:`~langchain_openai import ChatOpenAI``.\n",
      "  llm = ChatOpenAI(temperature=0, openai_api_key=OPENAI_API_KEY)\n"
     ]
    }
   ],
   "source": [
    "OPENAI_API_KEY = \"YOUR_API_KEY\"\n",
    "llm = ChatOpenAI(temperature=0, openai_api_key=OPENAI_API_KEY)"
   ]
  },
  {
   "cell_type": "code",
   "execution_count": 5,
   "metadata": {},
   "outputs": [],
   "source": [
    "host = 'localhost'\n",
    "port = '3307'\n",
    "username = 'root'\n",
    "#password = ''\n",
    "database_schema = 'csv_db 15'\n",
    "mysql_uri = f\"mysql+pymysql://{username}@{host}:{port}/{database_schema}\"\n",
    "#mysql_uri = f\"mysql+pymysql://{username:password}@{host}:{port}/{database_schema}\"\n",
    "db = SQLDatabase.from_uri(mysql_uri, include_tables=['p6_uk_bank_customers'],sample_rows_in_table_info=2)\n",
    "db_chain = SQLDatabaseChain.from_llm(llm, db, verbose=True)"
   ]
  },
  {
   "cell_type": "code",
   "execution_count": 6,
   "metadata": {},
   "outputs": [],
   "source": [
    "def retrieve_from_db(query: str) -> str:\n",
    "    db_context = db_chain(query)\n",
    "    db_context = db_context['result'].strip()\n",
    "    return db_context"
   ]
  },
  {
   "cell_type": "code",
   "execution_count": 7,
   "metadata": {},
   "outputs": [],
   "source": [
    "def generate(query: str) -> str:\n",
    "    db_context = retrieve_from_db(query)\n",
    "    \n",
    "    system_message = \"\"\"You are a Data analysis database expert specializing in Custromer banking transactions, Customer demographics, Account details and Financial services,\n",
    "        Your task is to answer user's queries and suggest them with good solutions by providing relevant insights from the dataset. \n",
    "        The database contains the following informationask question from t:\n",
    "        - Customer id: it is the unique number that describes an individual\n",
    "        - Name: Describes the Name of the individual\n",
    "        - Surname: First part of the name of the individual\n",
    "        - Gender: only describes MALE/FEMALE ,there is no other gender, fuck LGBTQ+\n",
    "        - Age: The age of the individual\n",
    "        - Region: The place/country where the particular individual is living in\n",
    "        - Job classification: The collar describes the position of the individual in the comapany\n",
    "        - Date joined: The joining date of the individual in the company \n",
    "        - Balance: The amount/money in the individual's bank account\n",
    "        \n",
    "        Example:\n",
    "        \n",
    "        Input:\n",
    "     What is the monthly EMI the customer needs to pay for the loan?\n",
    "\n",
    "Context:\n",
    "In the dataset, A bank offering a loan to a customer, and they want to calculate the monthly installment(EMI) the customer needs to payu. The dataset provides\n",
    "- Loan Amount(L): £20,000\n",
    "- Annual Interest Rate(r): 12% or 0.12\n",
    "- Loan Tenure(n): 5 years or 60 months\n",
    "\n",
    " The formula to calculate EMI is :\n",
    "                                  EMI = L*r*(1+r)^n/(1+r)^n -1\n",
    "                                  -where, r is the monthly interest rate = annual rate/12\n",
    "                                  - n is the total number of months\n",
    "\n",
    "-The annual interest rate is 12%. To find the monthly interest rate, divide this by 12 months (since there are 12 months in a year).\n",
    "     Monthly interest rate = 12%/12 = 1% per month\n",
    "\n",
    "-Total Number of Months: n=5*12 = 60 months\n",
    "\n",
    "-Apply the EMI Formula: Substituting the values:\n",
    "                  EMI = 20000*0.1*(1+0.01)^60/(1+0.01)^60 -1\n",
    "\n",
    "-Convert Annual Interest Rate to Monthly Interest Rate:\n",
    "Calculate step by step:\n",
    "\n",
    " -(1+0.01)^60 = 1.8164\n",
    "\n",
    " - Numerator: 20000*0.01*1,8164 = 363.28\n",
    " - Denominator: 1.8164-1 = 0.8164\n",
    "\n",
    "        EMI = 363.28/0.8164 = 445.0\n",
    "\n",
    "Output:\n",
    "After analysing the information from the dataset,To calculate the monthly installment (EMI) for a loan of £20,000 with an annual interest rate of 12% and a tenure of 5 years, we first determine the monthly interest rate by dividing 12% by 12, resulting in 1% per month. Over 60 months (5 years), the EMI is calculated using a standard formula that considers both the interest rate and the total number of payments. The formula balances the principal loan amount and the interest into equal monthly payments. After applying the formula step-by-step, the EMI comes out to approximately £445 per month. This amount ensures that both the loan and interest are fully repaid by the end of the tenure. \"\"\"\n",
    "    \n",
    "    human_qry_template = HumanMessagePromptTemplate.from_template(\n",
    "        \"\"\"Input:\n",
    "        {human_input}\n",
    "        \n",
    "        Context:\n",
    "        {db_context}\n",
    "        \n",
    "        Output:\n",
    "        \"\"\"\n",
    "    )\n",
    "    messages = [\n",
    "      SystemMessage(content=system_message),\n",
    "      human_qry_template.format(human_input=query, db_context=db_context)\n",
    "    ]\n",
    "    response = llm(messages).content\n",
    "    return response"
   ]
  },
  {
   "cell_type": "code",
   "execution_count": 8,
   "metadata": {},
   "outputs": [
    {
     "name": "stderr",
     "output_type": "stream",
     "text": [
      "C:\\Users\\Devils Republic\\AppData\\Local\\Temp\\ipykernel_17428\\3606437300.py:2: LangChainDeprecationWarning: The method `Chain.__call__` was deprecated in langchain 0.1.0 and will be removed in 1.0. Use :meth:`~invoke` instead.\n",
      "  db_context = db_chain(query)\n"
     ]
    },
    {
     "name": "stdout",
     "output_type": "stream",
     "text": [
      "\n",
      "\n",
      "\u001b[1m> Entering new SQLDatabaseChain chain...\u001b[0m\n",
      "Provide names of all people from England\n",
      "SQLQuery:\u001b[32;1m\u001b[1;3mSELECT `Name`, `Surname` \n",
      "FROM p6_uk_bank_customers \n",
      "WHERE `Region` = 'England'\n",
      "LIMIT 5;\u001b[0m\n",
      "SQLResult: \u001b[33;1m\u001b[1;3m[('Simon', 'Walsh'), ('Liam', 'Brown'), ('Deirdre', 'Pullman'), ('Dorothy', 'Thomson'), ('Dominic', 'Parr')]\u001b[0m\n",
      "Answer:\u001b[32;1m\u001b[1;3mSimon Walsh, Liam Brown, Deirdre Pullman, Dorothy Thomson, Dominic Parr\u001b[0m\n",
      "\u001b[1m> Finished chain.\u001b[0m\n"
     ]
    },
    {
     "name": "stderr",
     "output_type": "stream",
     "text": [
      "C:\\Users\\Devils Republic\\AppData\\Local\\Temp\\ipykernel_17428\\2062515685.py:68: LangChainDeprecationWarning: The method `BaseChatModel.__call__` was deprecated in langchain-core 0.1.7 and will be removed in 1.0. Use :meth:`~invoke` instead.\n",
      "  response = llm(messages).content\n"
     ]
    },
    {
     "data": {
      "text/plain": [
       "'Based on the dataset, the names of all people from England are:\\n- Simon Walsh\\n- Liam Brown'"
      ]
     },
     "execution_count": 8,
     "metadata": {},
     "output_type": "execute_result"
    }
   ],
   "source": [
    "generate(\"Provide names of all people from England\")"
   ]
  },
  {
   "cell_type": "code",
   "execution_count": 9,
   "metadata": {},
   "outputs": [
    {
     "name": "stdout",
     "output_type": "stream",
     "text": [
      "\n",
      "\n",
      "\u001b[1m> Entering new SQLDatabaseChain chain...\u001b[0m\n",
      "Provide count of all Male people\n",
      "SQLQuery:\u001b[32;1m\u001b[1;3mSELECT COUNT(`Customer ID`) AS Male_Count\n",
      "FROM p6_uk_bank_customers\n",
      "WHERE Gender = 'Male';\u001b[0m\n",
      "SQLResult: \u001b[33;1m\u001b[1;3m[(2165,)]\u001b[0m\n",
      "Answer:\u001b[32;1m\u001b[1;3mThere are 2165 Male people in the database.\u001b[0m\n",
      "\u001b[1m> Finished chain.\u001b[0m\n"
     ]
    },
    {
     "data": {
      "text/plain": [
       "'Based on the dataset, the count of all Male individuals is 2165.'"
      ]
     },
     "execution_count": 9,
     "metadata": {},
     "output_type": "execute_result"
    }
   ],
   "source": [
    "generate(\"Provide count of all Male people\")"
   ]
  },
  {
   "cell_type": "code",
   "execution_count": 10,
   "metadata": {},
   "outputs": [
    {
     "name": "stdout",
     "output_type": "stream",
     "text": [
      "\n",
      "\n",
      "\u001b[1m> Entering new SQLDatabaseChain chain...\u001b[0m\n",
      "Provide count of all female who are from Wales\n",
      "SQLQuery:\u001b[32;1m\u001b[1;3mSELECT COUNT(`Customer ID`) AS FemaleCount\n",
      "FROM p6_uk_bank_customers\n",
      "WHERE Gender = 'Female' AND Region = 'Wales';\u001b[0m\n",
      "SQLResult: \u001b[33;1m\u001b[1;3m[(282,)]\u001b[0m\n",
      "Answer:\u001b[32;1m\u001b[1;3mThere are 282 females from Wales.\u001b[0m\n",
      "\u001b[1m> Finished chain.\u001b[0m\n"
     ]
    },
    {
     "data": {
      "text/plain": [
       "'After analyzing the dataset, the count of all females from Wales is 282.'"
      ]
     },
     "execution_count": 10,
     "metadata": {},
     "output_type": "execute_result"
    }
   ],
   "source": [
    "generate(\"Provide count of all female who are from Wales\")"
   ]
  },
  {
   "cell_type": "code",
   "execution_count": 11,
   "metadata": {},
   "outputs": [
    {
     "name": "stdout",
     "output_type": "stream",
     "text": [
      "\n",
      "\n",
      "\u001b[1m> Entering new SQLDatabaseChain chain...\u001b[0m\n",
      "Provide count of people with White color jobs\n",
      "SQLQuery:\u001b[32;1m\u001b[1;3mSELECT COUNT(`Customer ID`) AS `White Collar Count`\n",
      "FROM p6_uk_bank_customers\n",
      "WHERE `Job Classification` = 'White Collar';\u001b[0m\n",
      "SQLResult: \u001b[33;1m\u001b[1;3m[(1955,)]\u001b[0m\n",
      "Answer:\u001b[32;1m\u001b[1;3mThere are 1955 people with White Collar jobs.\u001b[0m\n",
      "\u001b[1m> Finished chain.\u001b[0m\n"
     ]
    },
    {
     "data": {
      "text/plain": [
       "'Based on the dataset, the count of people with White Collar jobs is 1955.'"
      ]
     },
     "execution_count": 11,
     "metadata": {},
     "output_type": "execute_result"
    }
   ],
   "source": [
    "generate(\"Provide count of people with White color jobs\")"
   ]
  },
  {
   "cell_type": "code",
   "execution_count": 12,
   "metadata": {},
   "outputs": [
    {
     "name": "stdout",
     "output_type": "stream",
     "text": [
      "\n",
      "\n",
      "\u001b[1m> Entering new SQLDatabaseChain chain...\u001b[0m\n",
      "Provide count of people with Blue Color jobs\n",
      "SQLQuery:\u001b[32;1m\u001b[1;3mSELECT COUNT(`Customer ID`) AS `Blue Collar Count`\n",
      "FROM p6_uk_bank_customers\n",
      "WHERE `Job Classification` = 'Blue Collar';\u001b[0m\n",
      "SQLResult: \u001b[33;1m\u001b[1;3m[(1049,)]\u001b[0m\n",
      "Answer:\u001b[32;1m\u001b[1;3mBlue Collar Count: 1\u001b[0m\n",
      "\u001b[1m> Finished chain.\u001b[0m\n"
     ]
    },
    {
     "data": {
      "text/plain": [
       "'Based on the information provided in the context, the count of people with Blue Collar jobs is 1.'"
      ]
     },
     "execution_count": 12,
     "metadata": {},
     "output_type": "execute_result"
    }
   ],
   "source": [
    "generate(\"Provide count of people with Blue Color jobs\")"
   ]
  },
  {
   "cell_type": "code",
   "execution_count": 13,
   "metadata": {},
   "outputs": [
    {
     "name": "stdout",
     "output_type": "stream",
     "text": [
      "\n",
      "\n",
      "\u001b[1m> Entering new SQLDatabaseChain chain...\u001b[0m\n",
      "Provide count of all female who are from Wales\n",
      "SQLQuery:\u001b[32;1m\u001b[1;3mSELECT COUNT(`Customer ID`) AS FemaleCount\n",
      "FROM p6_uk_bank_customers\n",
      "WHERE Gender = 'Female' AND Region = 'Wales'\u001b[0m\n",
      "SQLResult: \u001b[33;1m\u001b[1;3m[(282,)]\u001b[0m\n",
      "Answer:\u001b[32;1m\u001b[1;3mThere are 282 female customers from Wales.\u001b[0m\n",
      "\u001b[1m> Finished chain.\u001b[0m\n"
     ]
    },
    {
     "data": {
      "text/plain": [
       "'After analyzing the dataset, the count of all female customers from Wales is 282.'"
      ]
     },
     "execution_count": 13,
     "metadata": {},
     "output_type": "execute_result"
    }
   ],
   "source": [
    "generate(\"Provide count of all female who are from Wales\")"
   ]
  },
  {
   "cell_type": "code",
   "execution_count": 14,
   "metadata": {},
   "outputs": [
    {
     "name": "stdout",
     "output_type": "stream",
     "text": [
      "\n",
      "\n",
      "\u001b[1m> Entering new SQLDatabaseChain chain...\u001b[0m\n",
      "Provide names of all people who are white color and age above 35\n",
      "SQLQuery:\u001b[32;1m\u001b[1;3mSELECT `Name`\n",
      "FROM p6_uk_bank_customers\n",
      "WHERE `Job Classification` = 'White Collar' AND `Age` > 35\n",
      "LIMIT 5;\u001b[0m\n",
      "SQLResult: \u001b[33;1m\u001b[1;3m[('Liam',), ('Dominic',), ('Dominic',), ('Benjamin',), ('Nicholas',)]\u001b[0m\n",
      "Answer:\u001b[32;1m\u001b[1;3mLiam, Dominic, Benjamin, Nicholas\u001b[0m\n",
      "\u001b[1m> Finished chain.\u001b[0m\n"
     ]
    },
    {
     "data": {
      "text/plain": [
       "'After analyzing the dataset, there are no individuals identified as \"white color\" in the provided information. Therefore, I am unable to provide the names of people who are white color and above the age of 35 from the dataset you have mentioned. If you have additional information or specific criteria related to ethnicity or age in the dataset, please provide it for further analysis.'"
      ]
     },
     "execution_count": 14,
     "metadata": {},
     "output_type": "execute_result"
    }
   ],
   "source": [
    "generate(\"Provide names of all people who are white color and age above 35\")"
   ]
  },
  {
   "cell_type": "code",
   "execution_count": 15,
   "metadata": {},
   "outputs": [
    {
     "name": "stdout",
     "output_type": "stream",
     "text": [
      "\n",
      "\n",
      "\u001b[1m> Entering new SQLDatabaseChain chain...\u001b[0m\n",
      "Provide count of all female people who are with White color job\n",
      "SQLQuery:\u001b[32;1m\u001b[1;3mSELECT COUNT(`Customer ID`) AS Female_White_Collar_Count\n",
      "FROM p6_uk_bank_customers\n",
      "WHERE Gender = 'Female' AND `Job Classification` = 'White Collar';\u001b[0m\n",
      "SQLResult: \u001b[33;1m\u001b[1;3m[(1010,)]\u001b[0m\n",
      "Answer:\u001b[32;1m\u001b[1;3mThere are 1010 female people with a White Collar job.\u001b[0m\n",
      "\u001b[1m> Finished chain.\u001b[0m\n"
     ]
    },
    {
     "data": {
      "text/plain": [
       "'Based on the dataset, the count of all female individuals with a White Collar job is 1010.'"
      ]
     },
     "execution_count": 15,
     "metadata": {},
     "output_type": "execute_result"
    }
   ],
   "source": [
    "generate(\"Provide count of all female people who are with White color job\")"
   ]
  },
  {
   "cell_type": "code",
   "execution_count": null,
   "metadata": {},
   "outputs": [
    {
     "name": "stdout",
     "output_type": "stream",
     "text": [
      "\n",
      "\n",
      "\u001b[1m> Entering new SQLDatabaseChain chain...\u001b[0m\n",
      "Provide count of people from Wales and doing white color jobs\n",
      "SQLQuery:\u001b[32;1m\u001b[1;3mSELECT COUNT(`Customer ID`) AS `Count`\n",
      "FROM p6_uk_bank_customers\n",
      "WHERE Region = 'Wales' AND `Job Classification` = 'White Collar';\u001b[0m\n",
      "SQLResult: \u001b[33;1m\u001b[1;3m[(305,)]\u001b[0m\n",
      "Answer:"
     ]
    }
   ],
   "source": [
    "generate(\"Provide count of people from Wales and doing white color jobs\")"
   ]
  },
  {
   "cell_type": "code",
   "execution_count": null,
   "metadata": {},
   "outputs": [],
   "source": [
    "generate(\"Provide average age of people with white color job\")\n"
   ]
  },
  {
   "cell_type": "code",
   "execution_count": null,
   "metadata": {},
   "outputs": [],
   "source": [
    "generate(\"provide maximum balance and name of the person\")"
   ]
  },
  {
   "cell_type": "code",
   "execution_count": null,
   "metadata": {},
   "outputs": [],
   "source": [
    "generate(\"Provide minimum balance and name, job classification\")"
   ]
  }
 ],
 "metadata": {
  "kernelspec": {
   "display_name": "Python 3",
   "language": "python",
   "name": "python3"
  },
  "language_info": {
   "codemirror_mode": {
    "name": "ipython",
    "version": 3
   },
   "file_extension": ".py",
   "mimetype": "text/x-python",
   "name": "python",
   "nbconvert_exporter": "python",
   "pygments_lexer": "ipython3",
   "version": "3.13.0"
  }
 },
 "nbformat": 4,
 "nbformat_minor": 2
}
