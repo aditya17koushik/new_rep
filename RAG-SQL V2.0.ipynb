{
 "cells": [
  {
   "cell_type": "code",
   "execution_count": 37,
   "metadata": {},
   "outputs": [
    {
     "name": "stdout",
     "output_type": "stream",
     "text": [
      "Requirement already satisfied: langchain in c:\\users\\devils republic\\appdata\\local\\programs\\python\\python313\\lib\\site-packages (0.3.7)\n",
      "Requirement already satisfied: langchain-experimental in c:\\users\\devils republic\\appdata\\local\\programs\\python\\python313\\lib\\site-packages (0.3.3)\n",
      "Requirement already satisfied: openai in c:\\users\\devils republic\\appdata\\local\\programs\\python\\python313\\lib\\site-packages (1.54.5)\n",
      "Requirement already satisfied: pymysql in c:\\users\\devils republic\\appdata\\local\\programs\\python\\python313\\lib\\site-packages (1.1.1)\n",
      "Requirement already satisfied: PyYAML>=5.3 in c:\\users\\devils republic\\appdata\\local\\programs\\python\\python313\\lib\\site-packages (from langchain) (6.0.2)\n",
      "Requirement already satisfied: SQLAlchemy<3,>=1.4 in c:\\users\\devils republic\\appdata\\local\\programs\\python\\python313\\lib\\site-packages (from langchain) (2.0.35)\n",
      "Requirement already satisfied: aiohttp<4.0.0,>=3.8.3 in c:\\users\\devils republic\\appdata\\local\\programs\\python\\python313\\lib\\site-packages (from langchain) (3.11.6)\n",
      "Requirement already satisfied: langchain-core<0.4.0,>=0.3.15 in c:\\users\\devils republic\\appdata\\local\\programs\\python\\python313\\lib\\site-packages (from langchain) (0.3.19)\n",
      "Requirement already satisfied: langchain-text-splitters<0.4.0,>=0.3.0 in c:\\users\\devils republic\\appdata\\local\\programs\\python\\python313\\lib\\site-packages (from langchain) (0.3.2)\n",
      "Requirement already satisfied: langsmith<0.2.0,>=0.1.17 in c:\\users\\devils republic\\appdata\\local\\programs\\python\\python313\\lib\\site-packages (from langchain) (0.1.143)\n",
      "Requirement already satisfied: numpy<2.0.0,>=1.26.0 in c:\\users\\devils republic\\appdata\\local\\programs\\python\\python313\\lib\\site-packages (from langchain) (1.26.4)\n",
      "Requirement already satisfied: pydantic<3.0.0,>=2.7.4 in c:\\users\\devils republic\\appdata\\local\\programs\\python\\python313\\lib\\site-packages (from langchain) (2.9.2)\n",
      "Requirement already satisfied: requests<3,>=2 in c:\\users\\devils republic\\appdata\\local\\programs\\python\\python313\\lib\\site-packages (from langchain) (2.32.3)\n",
      "Requirement already satisfied: tenacity!=8.4.0,<10,>=8.1.0 in c:\\users\\devils republic\\appdata\\local\\programs\\python\\python313\\lib\\site-packages (from langchain) (9.0.0)\n",
      "Requirement already satisfied: langchain-community<0.4.0,>=0.3.0 in c:\\users\\devils republic\\appdata\\local\\programs\\python\\python313\\lib\\site-packages (from langchain-experimental) (0.3.7)\n",
      "Requirement already satisfied: anyio<5,>=3.5.0 in c:\\users\\devils republic\\appdata\\local\\programs\\python\\python313\\lib\\site-packages (from openai) (4.6.2.post1)\n",
      "Requirement already satisfied: distro<2,>=1.7.0 in c:\\users\\devils republic\\appdata\\local\\programs\\python\\python313\\lib\\site-packages (from openai) (1.9.0)\n",
      "Requirement already satisfied: httpx<1,>=0.23.0 in c:\\users\\devils republic\\appdata\\local\\programs\\python\\python313\\lib\\site-packages (from openai) (0.27.2)\n",
      "Requirement already satisfied: jiter<1,>=0.4.0 in c:\\users\\devils republic\\appdata\\local\\programs\\python\\python313\\lib\\site-packages (from openai) (0.7.1)\n",
      "Requirement already satisfied: sniffio in c:\\users\\devils republic\\appdata\\local\\programs\\python\\python313\\lib\\site-packages (from openai) (1.3.1)\n",
      "Requirement already satisfied: tqdm>4 in c:\\users\\devils republic\\appdata\\local\\programs\\python\\python313\\lib\\site-packages (from openai) (4.67.0)\n",
      "Requirement already satisfied: typing-extensions<5,>=4.11 in c:\\users\\devils republic\\appdata\\local\\programs\\python\\python313\\lib\\site-packages (from openai) (4.12.2)\n",
      "Requirement already satisfied: aiohappyeyeballs>=2.3.0 in c:\\users\\devils republic\\appdata\\local\\programs\\python\\python313\\lib\\site-packages (from aiohttp<4.0.0,>=3.8.3->langchain) (2.4.3)\n",
      "Requirement already satisfied: aiosignal>=1.1.2 in c:\\users\\devils republic\\appdata\\local\\programs\\python\\python313\\lib\\site-packages (from aiohttp<4.0.0,>=3.8.3->langchain) (1.3.1)\n",
      "Requirement already satisfied: attrs>=17.3.0 in c:\\users\\devils republic\\appdata\\local\\programs\\python\\python313\\lib\\site-packages (from aiohttp<4.0.0,>=3.8.3->langchain) (24.2.0)\n",
      "Requirement already satisfied: frozenlist>=1.1.1 in c:\\users\\devils republic\\appdata\\local\\programs\\python\\python313\\lib\\site-packages (from aiohttp<4.0.0,>=3.8.3->langchain) (1.5.0)\n",
      "Requirement already satisfied: multidict<7.0,>=4.5 in c:\\users\\devils republic\\appdata\\local\\programs\\python\\python313\\lib\\site-packages (from aiohttp<4.0.0,>=3.8.3->langchain) (6.1.0)\n",
      "Requirement already satisfied: propcache>=0.2.0 in c:\\users\\devils republic\\appdata\\local\\programs\\python\\python313\\lib\\site-packages (from aiohttp<4.0.0,>=3.8.3->langchain) (0.2.0)\n",
      "Requirement already satisfied: yarl<2.0,>=1.17.0 in c:\\users\\devils republic\\appdata\\local\\programs\\python\\python313\\lib\\site-packages (from aiohttp<4.0.0,>=3.8.3->langchain) (1.17.2)\n",
      "Requirement already satisfied: idna>=2.8 in c:\\users\\devils republic\\appdata\\local\\programs\\python\\python313\\lib\\site-packages (from anyio<5,>=3.5.0->openai) (3.10)\n",
      "Requirement already satisfied: certifi in c:\\users\\devils republic\\appdata\\local\\programs\\python\\python313\\lib\\site-packages (from httpx<1,>=0.23.0->openai) (2024.8.30)\n",
      "Requirement already satisfied: httpcore==1.* in c:\\users\\devils republic\\appdata\\local\\programs\\python\\python313\\lib\\site-packages (from httpx<1,>=0.23.0->openai) (1.0.7)\n",
      "Requirement already satisfied: h11<0.15,>=0.13 in c:\\users\\devils republic\\appdata\\local\\programs\\python\\python313\\lib\\site-packages (from httpcore==1.*->httpx<1,>=0.23.0->openai) (0.14.0)\n",
      "Requirement already satisfied: dataclasses-json<0.7,>=0.5.7 in c:\\users\\devils republic\\appdata\\local\\programs\\python\\python313\\lib\\site-packages (from langchain-community<0.4.0,>=0.3.0->langchain-experimental) (0.6.7)\n",
      "Requirement already satisfied: httpx-sse<0.5.0,>=0.4.0 in c:\\users\\devils republic\\appdata\\local\\programs\\python\\python313\\lib\\site-packages (from langchain-community<0.4.0,>=0.3.0->langchain-experimental) (0.4.0)\n",
      "Requirement already satisfied: pydantic-settings<3.0.0,>=2.4.0 in c:\\users\\devils republic\\appdata\\local\\programs\\python\\python313\\lib\\site-packages (from langchain-community<0.4.0,>=0.3.0->langchain-experimental) (2.6.1)\n",
      "Requirement already satisfied: jsonpatch<2.0,>=1.33 in c:\\users\\devils republic\\appdata\\local\\programs\\python\\python313\\lib\\site-packages (from langchain-core<0.4.0,>=0.3.15->langchain) (1.33)\n",
      "Requirement already satisfied: packaging<25,>=23.2 in c:\\users\\devils republic\\appdata\\roaming\\python\\python313\\site-packages (from langchain-core<0.4.0,>=0.3.15->langchain) (24.2)\n",
      "Requirement already satisfied: orjson<4.0.0,>=3.9.14 in c:\\users\\devils republic\\appdata\\local\\programs\\python\\python313\\lib\\site-packages (from langsmith<0.2.0,>=0.1.17->langchain) (3.10.11)\n",
      "Requirement already satisfied: requests-toolbelt<2.0.0,>=1.0.0 in c:\\users\\devils republic\\appdata\\local\\programs\\python\\python313\\lib\\site-packages (from langsmith<0.2.0,>=0.1.17->langchain) (1.0.0)\n",
      "Requirement already satisfied: annotated-types>=0.6.0 in c:\\users\\devils republic\\appdata\\local\\programs\\python\\python313\\lib\\site-packages (from pydantic<3.0.0,>=2.7.4->langchain) (0.7.0)\n",
      "Requirement already satisfied: pydantic-core==2.23.4 in c:\\users\\devils republic\\appdata\\local\\programs\\python\\python313\\lib\\site-packages (from pydantic<3.0.0,>=2.7.4->langchain) (2.23.4)\n",
      "Requirement already satisfied: charset-normalizer<4,>=2 in c:\\users\\devils republic\\appdata\\local\\programs\\python\\python313\\lib\\site-packages (from requests<3,>=2->langchain) (3.4.0)\n",
      "Requirement already satisfied: urllib3<3,>=1.21.1 in c:\\users\\devils republic\\appdata\\local\\programs\\python\\python313\\lib\\site-packages (from requests<3,>=2->langchain) (2.2.3)\n",
      "Requirement already satisfied: colorama in c:\\users\\devils republic\\appdata\\roaming\\python\\python313\\site-packages (from tqdm>4->openai) (0.4.6)\n",
      "Requirement already satisfied: marshmallow<4.0.0,>=3.18.0 in c:\\users\\devils republic\\appdata\\local\\programs\\python\\python313\\lib\\site-packages (from dataclasses-json<0.7,>=0.5.7->langchain-community<0.4.0,>=0.3.0->langchain-experimental) (3.23.1)\n",
      "Requirement already satisfied: typing-inspect<1,>=0.4.0 in c:\\users\\devils republic\\appdata\\local\\programs\\python\\python313\\lib\\site-packages (from dataclasses-json<0.7,>=0.5.7->langchain-community<0.4.0,>=0.3.0->langchain-experimental) (0.9.0)\n",
      "Requirement already satisfied: jsonpointer>=1.9 in c:\\users\\devils republic\\appdata\\local\\programs\\python\\python313\\lib\\site-packages (from jsonpatch<2.0,>=1.33->langchain-core<0.4.0,>=0.3.15->langchain) (3.0.0)\n",
      "Requirement already satisfied: python-dotenv>=0.21.0 in c:\\users\\devils republic\\appdata\\local\\programs\\python\\python313\\lib\\site-packages (from pydantic-settings<3.0.0,>=2.4.0->langchain-community<0.4.0,>=0.3.0->langchain-experimental) (1.0.1)\n",
      "Requirement already satisfied: mypy-extensions>=0.3.0 in c:\\users\\devils republic\\appdata\\local\\programs\\python\\python313\\lib\\site-packages (from typing-inspect<1,>=0.4.0->dataclasses-json<0.7,>=0.5.7->langchain-community<0.4.0,>=0.3.0->langchain-experimental) (1.0.0)\n"
     ]
    }
   ],
   "source": [
    "!pip install langchain langchain-experimental openai pymysql"
   ]
  },
  {
   "cell_type": "code",
   "execution_count": 38,
   "metadata": {},
   "outputs": [],
   "source": [
    "from langchain.utilities import SQLDatabase\n",
    "from langchain.llms import OpenAI\n",
    "from langchain_experimental.sql import SQLDatabaseChain\n",
    "from langchain.prompts import PromptTemplate\n",
    "from langchain.prompts.chat import HumanMessagePromptTemplate\n",
    "from langchain.chat_models import ChatOpenAI\n",
    "from langchain.schema import HumanMessage, SystemMessage"
   ]
  },
  {
   "cell_type": "code",
   "execution_count": null,
   "metadata": {},
   "outputs": [],
   "source": [
    "OPENAI_API_KEY = \"YOUR_API_KEY\"\n",
    "llm = ChatOpenAI(temperature=0, openai_api_key=OPENAI_API_KEY)"
   ]
  },
  {
   "cell_type": "code",
   "execution_count": 40,
   "metadata": {},
   "outputs": [],
   "source": [
    "host = 'localhost'\n",
    "port = '3307'\n",
    "username = 'root'\n",
    "#password = ''\n",
    "database_schema = 'csv_db 12'\n",
    "mysql_uri = f\"mysql+pymysql://{username}@{host}:{port}/{database_schema}\"\n",
    "#mysql_uri = f\"mysql+pymysql://{username:password}@{host}:{port}/{database_schema}\"\n",
    "db = SQLDatabase.from_uri(mysql_uri, include_tables=['book2'],sample_rows_in_table_info=2)\n",
    "db_chain = SQLDatabaseChain.from_llm(llm, db, verbose=True)"
   ]
  },
  {
   "cell_type": "code",
   "execution_count": 41,
   "metadata": {},
   "outputs": [],
   "source": [
    "def retrieve_from_db(query: str) -> str:\n",
    "    db_context = db_chain(query)\n",
    "    db_context = db_context['result'].strip()\n",
    "    return db_context"
   ]
  },
  {
   "cell_type": "code",
   "execution_count": 42,
   "metadata": {},
   "outputs": [],
   "source": [
    "def generate(query: str) -> str:\n",
    "    db_context = retrieve_from_db(query)\n",
    "    \n",
    "    system_message = \"\"\"You are a Data analysis database expert specializing in  describe demographic, professional, and financial details of individuals, likely for a purpose such as risk assessment, consumer profiling, or financial analysis. \n",
    "        Your task is to answer users' questions by providing relevant insights from the dataset. \n",
    "        The database contains the following information for each movie:\n",
    "        - id\n",
    "        - Age\n",
    "        - Experience\n",
    "        - House_ownership\n",
    "        - Car_ownership\n",
    "        - Profession\n",
    "        - City\n",
    "        - State\n",
    "        - Current job years\n",
    "        - Current House years\n",
    "        - Risk flag\n",
    "        \n",
    "        Example:\n",
    "        \n",
    "        Input:\n",
    "      Which professions have the highest proportion of individuals flagged as high-risk?\n",
    "\n",
    "Context:\n",
    "In the dataset, individuals are flagged as high-risk if their Risk_Flag is 1. The analysis shows that the professions with the highest proportion of high-risk individuals are:\n",
    "\n",
    "Software Developers - 30%\n",
    "Mechanical Engineers - 25%\n",
    "Civil Servants - 20%\n",
    "Output:\n",
    "The professions with the highest proportion of high-risk individuals are Software Developers (30%), Mechanical Engineers (25%), and Civil Servants (20%).\"\"\"\n",
    "\n",
    "    \n",
    "    human_qry_template = HumanMessagePromptTemplate.from_template(\n",
    "        \"\"\"Input:\n",
    "        {human_input}\n",
    "        \n",
    "        Context:\n",
    "        {db_context}\n",
    "        \n",
    "        Output:\n",
    "        \"\"\"\n",
    "    )\n",
    "    messages = [\n",
    "      SystemMessage(content=system_message),\n",
    "      human_qry_template.format(human_input=query, db_context=db_context)\n",
    "    ]\n",
    "    response = llm(messages).content\n",
    "    return response"
   ]
  },
  {
   "cell_type": "code",
   "execution_count": 43,
   "metadata": {},
   "outputs": [
    {
     "name": "stdout",
     "output_type": "stream",
     "text": [
      "\n",
      "\n",
      "\u001b[1m> Entering new SQLDatabaseChain chain...\u001b[0m\n",
      "give me a brief description about the dataset?\n",
      "SQLQuery:\u001b[32;1m\u001b[1;3mSELECT `Id`, `Income`, `Age`, `Experience`, `Married`, `House_Ownership`, `Car_Ownership`, `Profession`, `CITY`, `STATE`, `CURRENT_JOB_YRS`, `CURRENT_HOUSE_YRS`, `Risk_Flag` \n",
      "FROM book2\n",
      "LIMIT 5;\u001b[0m\n",
      "SQLResult: \u001b[33;1m\u001b[1;3m[('1', '1303834', '23', '3', 'single', 'rented', 'no', 'Mechanical_engineer', 'Rewa', 'Madhya_Pradesh', '3', '13', '0'), ('2', '7574516', '40', '10', 'single', 'rented', 'no', 'Software_Developer', 'Parbhani', 'Maharashtra', '9', '13', '0'), ('3', '3991815', '66', '4', 'married', 'rented', 'no', 'Technical_writer', 'Alappuzha', 'Kerala', '4', '10', '0'), ('4', '6256451', '41', '2', 'single', 'rented', 'yes', 'Software_Developer', 'Bhubaneswar', 'Odisha', '2', '12', '1'), ('5', '5768871', '47', '11', 'single', 'rented', 'no', 'Civil_servant', 'Tiruchirappalli[10]', 'Tamil_Nadu', '3', '14', '1')]\u001b[0m\n",
      "Answer:\u001b[32;1m\u001b[1;3mThe dataset consists of information about individuals including their ID, income, age, experience, marital status, house ownership, car ownership, profession, city, state, current job years, current house years, and risk flag.\u001b[0m\n",
      "\u001b[1m> Finished chain.\u001b[0m\n"
     ]
    },
    {
     "data": {
      "text/plain": [
       "'The dataset contains information about individuals, including their ID, income, age, experience, marital status, house ownership, car ownership, profession, city, state, current job years, current house years, and risk flag.'"
      ]
     },
     "execution_count": 43,
     "metadata": {},
     "output_type": "execute_result"
    }
   ],
   "source": [
    "generate(\"give me a brief description about the dataset?\")"
   ]
  },
  {
   "cell_type": "code",
   "execution_count": 44,
   "metadata": {},
   "outputs": [
    {
     "name": "stdout",
     "output_type": "stream",
     "text": [
      "\n",
      "\n",
      "\u001b[1m> Entering new SQLDatabaseChain chain...\u001b[0m\n",
      "what is the average income of a married person with a minimum age of 47 and above in the state Telangana?\n",
      "SQLQuery:\u001b[32;1m\u001b[1;3mSELECT AVG(`Income`) AS Average_Income\n",
      "FROM book2\n",
      "WHERE `Married` = 'married' AND `Age` >= 47 AND `STATE` = 'Telangana'\u001b[0m\n",
      "SQLResult: \u001b[33;1m\u001b[1;3m[(4939952.27,)]\u001b[0m\n",
      "Answer:\u001b[32;1m\u001b[1;3mThe average income of a married person with a minimum age of 47 and above in the state Telangana is $4,939,952.27.\u001b[0m\n",
      "\u001b[1m> Finished chain.\u001b[0m\n"
     ]
    },
    {
     "data": {
      "text/plain": [
       "'The average income of a married person with a minimum age of 47 and above in the state Telangana is $4,939,952.27.'"
      ]
     },
     "execution_count": 44,
     "metadata": {},
     "output_type": "execute_result"
    }
   ],
   "source": [
    "generate(\"what is the average income of a married person with a minimum age of 47 and above in the state Telangana?\")"
   ]
  },
  {
   "cell_type": "code",
   "execution_count": 14,
   "metadata": {},
   "outputs": [
    {
     "name": "stdout",
     "output_type": "stream",
     "text": [
      "\n",
      "\n",
      "\u001b[1m> Entering new SQLDatabaseChain chain...\u001b[0m\n",
      "According to you, to have more income, is it ok to get married or to be single? \n",
      "SQLQuery:\u001b[32;1m\u001b[1;3mSELECT `Married`, AVG(`Income`) AS Avg_Income\n",
      "FROM book2\n",
      "GROUP BY `Married`\n",
      "ORDER BY Avg_Income DESC\n",
      "LIMIT 2;\u001b[0m\n",
      "SQLResult: \u001b[33;1m\u001b[1;3m[('single', 4899188.291148825), ('married', 4812740.6724213855)]\u001b[0m\n",
      "Answer:\u001b[32;1m\u001b[1;3mAccording to the data, on average, single individuals have a higher income compared to married individuals.\u001b[0m\n",
      "\u001b[1m> Finished chain.\u001b[0m\n"
     ]
    },
    {
     "data": {
      "text/plain": [
       "'On average, according to the data, single individuals have a higher income compared to married individuals.'"
      ]
     },
     "execution_count": 14,
     "metadata": {},
     "output_type": "execute_result"
    }
   ],
   "source": [
    "generate(\"According to you, to have more income, is it ok to get married or to be single? \")"
   ]
  },
  {
   "cell_type": "code",
   "execution_count": 16,
   "metadata": {},
   "outputs": [
    {
     "name": "stdout",
     "output_type": "stream",
     "text": [
      "\n",
      "\n",
      "\u001b[1m> Entering new SQLDatabaseChain chain...\u001b[0m\n",
      "what is the average risk flag of married people with age between 20 and 30?\n",
      "SQLQuery:\u001b[32;1m\u001b[1;3mSELECT AVG(`Risk_Flag`) AS Average_Risk_Flag\n",
      "FROM book2\n",
      "WHERE `Married` = 'married' AND `Age` BETWEEN 20 AND 30\u001b[0m\n",
      "SQLResult: \u001b[33;1m\u001b[1;3m[(0.0,)]\u001b[0m\n",
      "Answer:\u001b[32;1m\u001b[1;3mThe average risk flag of married people with age between 20 and 30 is 0.\u001b[0m\n",
      "\u001b[1m> Finished chain.\u001b[0m\n"
     ]
    },
    {
     "data": {
      "text/plain": [
       "'The average risk flag of married people with age between 20 and 30 is 0.'"
      ]
     },
     "execution_count": 16,
     "metadata": {},
     "output_type": "execute_result"
    }
   ],
   "source": [
    "generate(\"what is the average risk flag of married people with age between 20 and 30?\")"
   ]
  },
  {
   "cell_type": "code",
   "execution_count": 18,
   "metadata": {},
   "outputs": [
    {
     "name": "stdout",
     "output_type": "stream",
     "text": [
      "\n",
      "\n",
      "\u001b[1m> Entering new SQLDatabaseChain chain...\u001b[0m\n",
      "what are the top 3 best profession to choose as a fresher, to grow over time and have a descent income? \n",
      "SQLQuery:\u001b[32;1m\u001b[1;3mSELECT `Profession`, `Income`, `Experience` \n",
      "FROM book2 \n",
      "WHERE `Experience` = '3' \n",
      "ORDER BY `Income` DESC \n",
      "LIMIT 3;\u001b[0m\n",
      "SQLResult: \u001b[33;1m\u001b[1;3m[('Chemical_engineer', '996748', '3'), ('Librarian', '9908353', '3'), ('Financial_Analyst', '9804751', '3')]\u001b[0m\n",
      "Answer:\u001b[32;1m\u001b[1;3mThe top 3 best professions to choose as a fresher, to grow over time, and have a decent income are Chemical Engineer, Librarian, and Financial Analyst.\u001b[0m\n",
      "\u001b[1m> Finished chain.\u001b[0m\n"
     ]
    },
    {
     "data": {
      "text/plain": [
       "'The top 3 best professions to choose as a fresher, to grow over time, and have a decent income are Chemical Engineer, Librarian, and Financial Analyst.'"
      ]
     },
     "execution_count": 18,
     "metadata": {},
     "output_type": "execute_result"
    }
   ],
   "source": [
    "generate(\"what are the top 3 best profession to choose as a fresher, to grow over time and have a descent income? \")"
   ]
  },
  {
   "cell_type": "code",
   "execution_count": 19,
   "metadata": {},
   "outputs": [
    {
     "name": "stdout",
     "output_type": "stream",
     "text": [
      "\n",
      "\n",
      "\u001b[1m> Entering new SQLDatabaseChain chain...\u001b[0m\n",
      "Iam a software engineer and iam not happy with my job, what profession should i choose?\n",
      "SQLQuery:\u001b[32;1m\u001b[1;3mSELECT `Profession`, COUNT(`Profession`) AS `Count`\n",
      "FROM book2\n",
      "WHERE `Profession` != 'Software_Developer'\n",
      "GROUP BY `Profession`\n",
      "ORDER BY `Count` DESC\n",
      "LIMIT 1;\u001b[0m\n",
      "SQLResult: \u001b[33;1m\u001b[1;3m[('Fashion_Designer', 80)]\u001b[0m\n",
      "Answer:\u001b[32;1m\u001b[1;3mFashion Designer\u001b[0m\n",
      "\u001b[1m> Finished chain.\u001b[0m\n"
     ]
    },
    {
     "data": {
      "text/plain": [
       "'Based on the dataset, you may consider transitioning to a profession such as Fashion Designer.'"
      ]
     },
     "execution_count": 19,
     "metadata": {},
     "output_type": "execute_result"
    }
   ],
   "source": [
    "generate(\"Iam a software engineer and iam not happy with my job, what profession should i choose?\")"
   ]
  },
  {
   "cell_type": "code",
   "execution_count": 23,
   "metadata": {},
   "outputs": [
    {
     "name": "stdout",
     "output_type": "stream",
     "text": [
      "\n",
      "\n",
      "\u001b[1m> Entering new SQLDatabaseChain chain...\u001b[0m\n",
      "what state, should i move to have a low risk flag?\n",
      "SQLQuery:\u001b[32;1m\u001b[1;3mSELECT `STATE`, COUNT(`Risk_Flag`) AS `Low_Risk_Count`\n",
      "FROM book2\n",
      "WHERE `Risk_Flag` = '0'\n",
      "GROUP BY `STATE`\n",
      "ORDER BY `Low_Risk_Count` DESC\n",
      "LIMIT 5;\u001b[0m\n",
      "SQLResult: \u001b[33;1m\u001b[1;3m[('Uttar_Pradesh', 199), ('West_Bengal', 172), ('Andhra_Pradesh', 163), ('Maharashtra', 155), ('Bihar', 134)]\u001b[0m\n",
      "Answer:\u001b[32;1m\u001b[1;3mYou should move to Uttar Pradesh to have a low risk flag.\u001b[0m\n",
      "\u001b[1m> Finished chain.\u001b[0m\n"
     ]
    },
    {
     "data": {
      "text/plain": [
       "'You should move to Uttar Pradesh to have a low risk flag.'"
      ]
     },
     "execution_count": 23,
     "metadata": {},
     "output_type": "execute_result"
    }
   ],
   "source": [
    "generate(\"what state, should i move to have a low risk flag?\")"
   ]
  },
  {
   "cell_type": "code",
   "execution_count": 24,
   "metadata": {},
   "outputs": [
    {
     "name": "stdout",
     "output_type": "stream",
     "text": [
      "\n",
      "\n",
      "\u001b[1m> Entering new SQLDatabaseChain chain...\u001b[0m\n",
      "which state retained the most house ownerships?\n",
      "SQLQuery:\u001b[32;1m\u001b[1;3mSELECT `STATE`, COUNT(`House_Ownership`) AS `Total_House_Ownerships`\n",
      "FROM book2\n",
      "WHERE `House_Ownership` = 'owned'\n",
      "GROUP BY `STATE`\n",
      "ORDER BY `Total_House_Ownerships` DESC\n",
      "LIMIT 1;\u001b[0m\n",
      "SQLResult: \u001b[33;1m\u001b[1;3m[('West_Bengal', 24)]\u001b[0m\n",
      "Answer:\u001b[32;1m\u001b[1;3mWest Bengal retained the most house ownerships with a total of 24.\u001b[0m\n",
      "\u001b[1m> Finished chain.\u001b[0m\n"
     ]
    },
    {
     "data": {
      "text/plain": [
       "'West Bengal retained the most house ownerships with a total of 24.'"
      ]
     },
     "execution_count": 24,
     "metadata": {},
     "output_type": "execute_result"
    }
   ],
   "source": [
    "generate(\"which state retained the most house ownerships?\")"
   ]
  },
  {
   "cell_type": "code",
   "execution_count": 45,
   "metadata": {},
   "outputs": [
    {
     "name": "stdout",
     "output_type": "stream",
     "text": [
      "\n",
      "\n",
      "\u001b[1m> Entering new SQLDatabaseChain chain...\u001b[0m\n",
      "give me a brief description about the house ownerships verses the state verse the age ?\n",
      "SQLQuery:\u001b[32;1m\u001b[1;3mSELECT `House_Ownership`, `STATE`, `Age` FROM book2 ORDER BY `House_Ownership`, `STATE`, `Age` LIMIT 5;\u001b[0m\n",
      "SQLResult: \u001b[33;1m\u001b[1;3m[('House_Ownership', 'STATE', 'Age'), ('norent_noown', 'Andhra_Pradesh', '50'), ('norent_noown', 'Andhra_Pradesh', '51.4659044'), ('norent_noown', 'Andhra_Pradesh', '51.5238447'), ('norent_noown', 'Andhra_Pradesh', '55')]\u001b[0m\n",
      "Answer:\u001b[32;1m\u001b[1;3mHouse ownerships vary across different states and ages. Some examples include individuals in Andhra Pradesh aged 50, 51.46, 51.52, and 55 who do not own or rent a house.\u001b[0m\n",
      "\u001b[1m> Finished chain.\u001b[0m\n"
     ]
    },
    {
     "data": {
      "text/plain": [
       "'House ownership varies across different states and ages in the dataset. For example, in Andhra Pradesh, individuals aged 50, 51.46, 51.52, and 55 do not own or rent a house. This suggests that there is a mix of house ownership statuses among individuals of different ages in Andhra Pradesh. Further analysis can provide more insights into the distribution of house ownership across states and age groups.'"
      ]
     },
     "execution_count": 45,
     "metadata": {},
     "output_type": "execute_result"
    }
   ],
   "source": [
    "generate(\"give me a brief description about the house ownerships verses the state verse the age ?\")"
   ]
  },
  {
   "cell_type": "code",
   "execution_count": 49,
   "metadata": {},
   "outputs": [
    {
     "name": "stdout",
     "output_type": "stream",
     "text": [
      "\n",
      "\n",
      "\u001b[1m> Entering new SQLDatabaseChain chain...\u001b[0m\n",
      "  suggest me 3 professions and 3 States that I can live happily\n",
      "SQLQuery:\u001b[32;1m\u001b[1;3mSELECT DISTINCT `Profession`, `STATE` \n",
      "FROM book2 \n",
      "ORDER BY RAND() \n",
      "LIMIT 3;\u001b[0m\n",
      "SQLResult: \u001b[33;1m\u001b[1;3m[('Technology_specialist', 'Tamil_Nadu'), ('Industrial_Engineer', 'Haryana'), ('Surgeon', 'Bihar')]\u001b[0m\n",
      "Answer:\u001b[32;1m\u001b[1;3mProfessions: Technology specialist, Industrial Engineer, Surgeon\n",
      "States: Tamil Nadu, Haryana, Bihar\u001b[0m\n",
      "\u001b[1m> Finished chain.\u001b[0m\n"
     ]
    },
    {
     "data": {
      "text/plain": [
       "'Based on the dataset, the three professions and three states where individuals are flagged as low-risk and hence potentially conducive to a happy life are:\\n\\nProfessions:\\n1. Technology Specialist\\n2. Industrial Engineer\\n3. Surgeon\\n\\nStates:\\n1. Tamil Nadu\\n2. Haryana\\n3. Bihar\\n\\nThese professions and states have a lower proportion of high-risk individuals, indicating a potentially happier and more stable living environment.'"
      ]
     },
     "execution_count": 49,
     "metadata": {},
     "output_type": "execute_result"
    }
   ],
   "source": [
    "generate(\"  suggest me 3 professions and 3 States that I can live happily\")"
   ]
  }
 ],
 "metadata": {
  "kernelspec": {
   "display_name": "Python 3",
   "language": "python",
   "name": "python3"
  },
  "language_info": {
   "codemirror_mode": {
    "name": "ipython",
    "version": 3
   },
   "file_extension": ".py",
   "mimetype": "text/x-python",
   "name": "python",
   "nbconvert_exporter": "python",
   "pygments_lexer": "ipython3",
   "version": "3.13.0"
  }
 },
 "nbformat": 4,
 "nbformat_minor": 2
}
