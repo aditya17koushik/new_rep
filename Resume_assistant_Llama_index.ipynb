{
 "cells": [
  {
   "cell_type": "code",
   "execution_count": null,
   "id": "4fd3d689-8c18-4961-89da-1096e88adfe0",
   "metadata": {},
   "outputs": [
    {
     "name": "stderr",
     "output_type": "stream",
     "text": [
      "incorrect startxref pointer(3)\n"
     ]
    }
   ],
   "source": [
    "import os\n",
    "#os.environ[\"OPENAI_API_KEY\"]=\"\"\n",
    "os.environ[\"OPENAI_API_KEY\"]=\"YOUR_API_KEY\"\n",
    "\n",
    "from llama_index.core import SimpleDirectoryReader\n",
    "documents = SimpleDirectoryReader(\"C:\\\\Users\\\\Documents\\\\Janardhan\\\\12Nov2024\\\\Resumes\",recursive=True).load_data()\n",
    "\n",
    "from llama_index.core import VectorStoreIndex\n",
    "index = VectorStoreIndex.from_documents(documents)\n",
    "query_engine = index.as_query_engine(similarity_top_k=25)"
   ]
  },
  {
   "cell_type": "code",
   "execution_count": 2,
   "id": "d1eaa39b-462f-4981-b613-7c7407322399",
   "metadata": {},
   "outputs": [],
   "source": [
    "def get_results(query_string):\n",
    "    response = query_engine.query(query_string)\n",
    "    return response.response\n",
    "    "
   ]
  },
  {
   "cell_type": "code",
   "execution_count": null,
   "id": "92a052bf-7c5c-4363-bf17-a56a8b89944c",
   "metadata": {},
   "outputs": [
    {
     "name": "stdout",
     "output_type": "stream",
     "text": [
      " * Serving Flask app '__main__'\n",
      " * Debug mode: off\n"
     ]
    },
    {
     "name": "stderr",
     "output_type": "stream",
     "text": [
      "WARNING: This is a development server. Do not use it in a production deployment. Use a production WSGI server instead.\n",
      " * Running on http://127.0.0.1:5000\n",
      "Press CTRL+C to quit\n"
     ]
    }
   ],
   "source": [
    "from flask import Flask, request, jsonify\n",
    "app = Flask(__name__,\n",
    "            static_url_path='', \n",
    "            static_folder='',\n",
    "            template_folder='')\n",
    "\n",
    "@app.route('/search/', methods = ['GET'])\n",
    "def any_name():\n",
    "   if request.method == 'GET':\n",
    "      name=request.args.get('q')\n",
    "      result = \"Good morning \" + name\n",
    "      return jsonify({\"code\":0,\"message\":result})\n",
    "\n",
    "@app.route('/ask_documents/', methods = ['GET'])\n",
    "def a_documents():\n",
    "   if request.method == 'GET':\n",
    "      q_name=request.args.get('q')\n",
    "      resp= get_results(q_name)\n",
    "      return jsonify({\"code\":0,\"message\":resp})\n",
    "\n",
    "@app.route('/p_search/', methods = ['POST'])\n",
    "def any_name_p():\n",
    "   if request.method == 'POST':\n",
    "      name=request.form('q')\n",
    "      result = \"Good morning \" + name\n",
    "      return jsonify({\"code\":0,\"message\":result})\n",
    "\n",
    "if __name__ == \"__main__\":    \n",
    "    app.debug=False\n",
    "    app.run(host=\"127.0.0.1\",port=5000) #192.168.1.22 # any number greater than 1028"
   ]
  },
  {
   "cell_type": "code",
   "execution_count": null,
   "id": "15390d63-5a66-412c-8695-137a4bd9c1a0",
   "metadata": {},
   "outputs": [],
   "source": []
  }
 ],
 "metadata": {
  "kernelspec": {
   "display_name": "Python 3 (ipykernel)",
   "language": "python",
   "name": "python3"
  },
  "language_info": {
   "codemirror_mode": {
    "name": "ipython",
    "version": 3
   },
   "file_extension": ".py",
   "mimetype": "text/x-python",
   "name": "python",
   "nbconvert_exporter": "python",
   "pygments_lexer": "ipython3",
   "version": "3.11.7"
  }
 },
 "nbformat": 4,
 "nbformat_minor": 5
}
