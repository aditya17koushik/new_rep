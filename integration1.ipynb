{
 "cells": [
  {
   "cell_type": "markdown",
   "id": "46686d05-c89d-4b93-88a6-07f4f2d735fc",
   "metadata": {},
   "source": [
    "Insallting llama index packages"
   ]
  },
  {
   "cell_type": "code",
   "execution_count": 1,
   "id": "8754c009-152b-4130-9546-408b9379992c",
   "metadata": {},
   "outputs": [
    {
     "name": "stdout",
     "output_type": "stream",
     "text": [
      "Requirement already satisfied: llama-index in c:\\users\\devils republic\\anaconda3\\lib\\site-packages (0.11.22)\n",
      "Requirement already satisfied: llama-index-agent-openai<0.4.0,>=0.3.4 in c:\\users\\devils republic\\anaconda3\\lib\\site-packages (from llama-index) (0.3.4)\n",
      "Requirement already satisfied: llama-index-cli<0.4.0,>=0.3.1 in c:\\users\\devils republic\\anaconda3\\lib\\site-packages (from llama-index) (0.3.1)\n",
      "Requirement already satisfied: llama-index-core<0.12.0,>=0.11.22 in c:\\users\\devils republic\\anaconda3\\lib\\site-packages (from llama-index) (0.11.23)\n",
      "Requirement already satisfied: llama-index-embeddings-openai<0.3.0,>=0.2.4 in c:\\users\\devils republic\\anaconda3\\lib\\site-packages (from llama-index) (0.2.5)\n",
      "Requirement already satisfied: llama-index-indices-managed-llama-cloud>=0.3.0 in c:\\users\\devils republic\\anaconda3\\lib\\site-packages (from llama-index) (0.4.0)\n",
      "Requirement already satisfied: llama-index-legacy<0.10.0,>=0.9.48 in c:\\users\\devils republic\\anaconda3\\lib\\site-packages (from llama-index) (0.9.48.post4)\n",
      "Requirement already satisfied: llama-index-llms-openai<0.3.0,>=0.2.10 in c:\\users\\devils republic\\anaconda3\\lib\\site-packages (from llama-index) (0.2.16)\n",
      "Requirement already satisfied: llama-index-multi-modal-llms-openai<0.3.0,>=0.2.0 in c:\\users\\devils republic\\anaconda3\\lib\\site-packages (from llama-index) (0.2.3)\n",
      "Requirement already satisfied: llama-index-program-openai<0.3.0,>=0.2.0 in c:\\users\\devils republic\\anaconda3\\lib\\site-packages (from llama-index) (0.2.0)\n",
      "Requirement already satisfied: llama-index-question-gen-openai<0.3.0,>=0.2.0 in c:\\users\\devils republic\\anaconda3\\lib\\site-packages (from llama-index) (0.2.0)\n",
      "Requirement already satisfied: llama-index-readers-file<0.3.0,>=0.2.0 in c:\\users\\devils republic\\anaconda3\\lib\\site-packages (from llama-index) (0.2.2)\n",
      "Requirement already satisfied: llama-index-readers-llama-parse>=0.3.0 in c:\\users\\devils republic\\anaconda3\\lib\\site-packages (from llama-index) (0.3.0)\n",
      "Requirement already satisfied: nltk>3.8.1 in c:\\users\\devils republic\\anaconda3\\lib\\site-packages (from llama-index) (3.9.1)\n",
      "Requirement already satisfied: openai>=1.14.0 in c:\\users\\devils republic\\anaconda3\\lib\\site-packages (from llama-index-agent-openai<0.4.0,>=0.3.4->llama-index) (1.54.3)\n",
      "Requirement already satisfied: PyYAML>=6.0.1 in c:\\users\\devils republic\\anaconda3\\lib\\site-packages (from llama-index-core<0.12.0,>=0.11.22->llama-index) (6.0.1)\n",
      "Requirement already satisfied: SQLAlchemy>=1.4.49 in c:\\users\\devils republic\\anaconda3\\lib\\site-packages (from SQLAlchemy[asyncio]>=1.4.49->llama-index-core<0.12.0,>=0.11.22->llama-index) (2.0.25)\n",
      "Requirement already satisfied: aiohttp<4.0.0,>=3.8.6 in c:\\users\\devils republic\\anaconda3\\lib\\site-packages (from llama-index-core<0.12.0,>=0.11.22->llama-index) (3.9.3)\n",
      "Requirement already satisfied: dataclasses-json in c:\\users\\devils republic\\anaconda3\\lib\\site-packages (from llama-index-core<0.12.0,>=0.11.22->llama-index) (0.6.7)\n",
      "Requirement already satisfied: deprecated>=1.2.9.3 in c:\\users\\devils republic\\anaconda3\\lib\\site-packages (from llama-index-core<0.12.0,>=0.11.22->llama-index) (1.2.14)\n",
      "Requirement already satisfied: dirtyjson<2.0.0,>=1.0.8 in c:\\users\\devils republic\\anaconda3\\lib\\site-packages (from llama-index-core<0.12.0,>=0.11.22->llama-index) (1.0.8)\n",
      "Requirement already satisfied: filetype<2.0.0,>=1.2.0 in c:\\users\\devils republic\\anaconda3\\lib\\site-packages (from llama-index-core<0.12.0,>=0.11.22->llama-index) (1.2.0)\n",
      "Requirement already satisfied: fsspec>=2023.5.0 in c:\\users\\devils republic\\anaconda3\\lib\\site-packages (from llama-index-core<0.12.0,>=0.11.22->llama-index) (2023.10.0)\n",
      "Requirement already satisfied: httpx in c:\\users\\devils republic\\anaconda3\\lib\\site-packages (from llama-index-core<0.12.0,>=0.11.22->llama-index) (0.27.2)\n",
      "Requirement already satisfied: nest-asyncio<2.0.0,>=1.5.8 in c:\\users\\devils republic\\anaconda3\\lib\\site-packages (from llama-index-core<0.12.0,>=0.11.22->llama-index) (1.6.0)\n",
      "Requirement already satisfied: networkx>=3.0 in c:\\users\\devils republic\\anaconda3\\lib\\site-packages (from llama-index-core<0.12.0,>=0.11.22->llama-index) (3.1)\n",
      "Requirement already satisfied: numpy<2.0.0 in c:\\users\\devils republic\\anaconda3\\lib\\site-packages (from llama-index-core<0.12.0,>=0.11.22->llama-index) (1.26.4)\n",
      "Requirement already satisfied: pillow>=9.0.0 in c:\\users\\devils republic\\anaconda3\\lib\\site-packages (from llama-index-core<0.12.0,>=0.11.22->llama-index) (10.2.0)\n",
      "Requirement already satisfied: pydantic<3.0.0,>=2.7.0 in c:\\users\\devils republic\\anaconda3\\lib\\site-packages (from llama-index-core<0.12.0,>=0.11.22->llama-index) (2.9.2)\n",
      "Requirement already satisfied: requests>=2.31.0 in c:\\users\\devils republic\\anaconda3\\lib\\site-packages (from llama-index-core<0.12.0,>=0.11.22->llama-index) (2.31.0)\n",
      "Requirement already satisfied: tenacity!=8.4.0,<9.0.0,>=8.2.0 in c:\\users\\devils republic\\anaconda3\\lib\\site-packages (from llama-index-core<0.12.0,>=0.11.22->llama-index) (8.2.2)\n",
      "Requirement already satisfied: tiktoken>=0.3.3 in c:\\users\\devils republic\\anaconda3\\lib\\site-packages (from llama-index-core<0.12.0,>=0.11.22->llama-index) (0.8.0)\n",
      "Requirement already satisfied: tqdm<5.0.0,>=4.66.1 in c:\\users\\devils republic\\anaconda3\\lib\\site-packages (from llama-index-core<0.12.0,>=0.11.22->llama-index) (4.67.0)\n",
      "Requirement already satisfied: typing-extensions>=4.5.0 in c:\\users\\devils republic\\anaconda3\\lib\\site-packages (from llama-index-core<0.12.0,>=0.11.22->llama-index) (4.12.2)\n",
      "Requirement already satisfied: typing-inspect>=0.8.0 in c:\\users\\devils republic\\anaconda3\\lib\\site-packages (from llama-index-core<0.12.0,>=0.11.22->llama-index) (0.9.0)\n",
      "Requirement already satisfied: wrapt in c:\\users\\devils republic\\anaconda3\\lib\\site-packages (from llama-index-core<0.12.0,>=0.11.22->llama-index) (1.14.1)\n",
      "Requirement already satisfied: llama-cloud>=0.0.11 in c:\\users\\devils republic\\anaconda3\\lib\\site-packages (from llama-index-indices-managed-llama-cloud>=0.3.0->llama-index) (0.1.4)\n",
      "Requirement already satisfied: pandas in c:\\users\\devils republic\\anaconda3\\lib\\site-packages (from llama-index-legacy<0.10.0,>=0.9.48->llama-index) (2.1.4)\n",
      "Requirement already satisfied: beautifulsoup4<5.0.0,>=4.12.3 in c:\\users\\devils republic\\anaconda3\\lib\\site-packages (from llama-index-readers-file<0.3.0,>=0.2.0->llama-index) (4.12.3)\n",
      "Requirement already satisfied: pypdf<5.0.0,>=4.0.1 in c:\\users\\devils republic\\anaconda3\\lib\\site-packages (from llama-index-readers-file<0.3.0,>=0.2.0->llama-index) (4.3.1)\n",
      "Requirement already satisfied: striprtf<0.0.27,>=0.0.26 in c:\\users\\devils republic\\anaconda3\\lib\\site-packages (from llama-index-readers-file<0.3.0,>=0.2.0->llama-index) (0.0.26)\n",
      "Requirement already satisfied: llama-parse>=0.5.0 in c:\\users\\devils republic\\anaconda3\\lib\\site-packages (from llama-index-readers-llama-parse>=0.3.0->llama-index) (0.5.13)\n",
      "Requirement already satisfied: click in c:\\users\\devils republic\\anaconda3\\lib\\site-packages (from nltk>3.8.1->llama-index) (8.1.7)\n",
      "Requirement already satisfied: joblib in c:\\users\\devils republic\\anaconda3\\lib\\site-packages (from nltk>3.8.1->llama-index) (1.2.0)\n",
      "Requirement already satisfied: regex>=2021.8.3 in c:\\users\\devils republic\\anaconda3\\lib\\site-packages (from nltk>3.8.1->llama-index) (2023.10.3)\n",
      "Requirement already satisfied: aiosignal>=1.1.2 in c:\\users\\devils republic\\anaconda3\\lib\\site-packages (from aiohttp<4.0.0,>=3.8.6->llama-index-core<0.12.0,>=0.11.22->llama-index) (1.2.0)\n",
      "Requirement already satisfied: attrs>=17.3.0 in c:\\users\\devils republic\\anaconda3\\lib\\site-packages (from aiohttp<4.0.0,>=3.8.6->llama-index-core<0.12.0,>=0.11.22->llama-index) (23.1.0)\n",
      "Requirement already satisfied: frozenlist>=1.1.1 in c:\\users\\devils republic\\anaconda3\\lib\\site-packages (from aiohttp<4.0.0,>=3.8.6->llama-index-core<0.12.0,>=0.11.22->llama-index) (1.4.0)\n",
      "Requirement already satisfied: multidict<7.0,>=4.5 in c:\\users\\devils republic\\anaconda3\\lib\\site-packages (from aiohttp<4.0.0,>=3.8.6->llama-index-core<0.12.0,>=0.11.22->llama-index) (6.0.4)\n",
      "Requirement already satisfied: yarl<2.0,>=1.0 in c:\\users\\devils republic\\anaconda3\\lib\\site-packages (from aiohttp<4.0.0,>=3.8.6->llama-index-core<0.12.0,>=0.11.22->llama-index) (1.9.3)\n",
      "Requirement already satisfied: soupsieve>1.2 in c:\\users\\devils republic\\anaconda3\\lib\\site-packages (from beautifulsoup4<5.0.0,>=4.12.3->llama-index-readers-file<0.3.0,>=0.2.0->llama-index) (2.5)\n",
      "Requirement already satisfied: anyio in c:\\users\\devils republic\\anaconda3\\lib\\site-packages (from httpx->llama-index-core<0.12.0,>=0.11.22->llama-index) (4.2.0)\n",
      "Requirement already satisfied: certifi in c:\\users\\devils republic\\anaconda3\\lib\\site-packages (from httpx->llama-index-core<0.12.0,>=0.11.22->llama-index) (2024.2.2)\n",
      "Requirement already satisfied: httpcore==1.* in c:\\users\\devils republic\\anaconda3\\lib\\site-packages (from httpx->llama-index-core<0.12.0,>=0.11.22->llama-index) (1.0.6)\n",
      "Requirement already satisfied: idna in c:\\users\\devils republic\\anaconda3\\lib\\site-packages (from httpx->llama-index-core<0.12.0,>=0.11.22->llama-index) (3.4)\n",
      "Requirement already satisfied: sniffio in c:\\users\\devils republic\\anaconda3\\lib\\site-packages (from httpx->llama-index-core<0.12.0,>=0.11.22->llama-index) (1.3.0)\n",
      "Requirement already satisfied: h11<0.15,>=0.13 in c:\\users\\devils republic\\anaconda3\\lib\\site-packages (from httpcore==1.*->httpx->llama-index-core<0.12.0,>=0.11.22->llama-index) (0.14.0)\n",
      "Requirement already satisfied: colorama in c:\\users\\devils republic\\anaconda3\\lib\\site-packages (from click->nltk>3.8.1->llama-index) (0.4.6)\n",
      "Requirement already satisfied: distro<2,>=1.7.0 in c:\\users\\devils republic\\anaconda3\\lib\\site-packages (from openai>=1.14.0->llama-index-agent-openai<0.4.0,>=0.3.4->llama-index) (1.8.0)\n",
      "Requirement already satisfied: jiter<1,>=0.4.0 in c:\\users\\devils republic\\anaconda3\\lib\\site-packages (from openai>=1.14.0->llama-index-agent-openai<0.4.0,>=0.3.4->llama-index) (0.7.0)\n",
      "Requirement already satisfied: annotated-types>=0.6.0 in c:\\users\\devils republic\\anaconda3\\lib\\site-packages (from pydantic<3.0.0,>=2.7.0->llama-index-core<0.12.0,>=0.11.22->llama-index) (0.7.0)\n",
      "Requirement already satisfied: pydantic-core==2.23.4 in c:\\users\\devils republic\\anaconda3\\lib\\site-packages (from pydantic<3.0.0,>=2.7.0->llama-index-core<0.12.0,>=0.11.22->llama-index) (2.23.4)\n",
      "Requirement already satisfied: charset-normalizer<4,>=2 in c:\\users\\devils republic\\anaconda3\\lib\\site-packages (from requests>=2.31.0->llama-index-core<0.12.0,>=0.11.22->llama-index) (2.0.4)\n",
      "Requirement already satisfied: urllib3<3,>=1.21.1 in c:\\users\\devils republic\\anaconda3\\lib\\site-packages (from requests>=2.31.0->llama-index-core<0.12.0,>=0.11.22->llama-index) (2.0.7)\n",
      "Requirement already satisfied: greenlet!=0.4.17 in c:\\users\\devils republic\\anaconda3\\lib\\site-packages (from SQLAlchemy>=1.4.49->SQLAlchemy[asyncio]>=1.4.49->llama-index-core<0.12.0,>=0.11.22->llama-index) (3.0.1)\n",
      "Requirement already satisfied: mypy-extensions>=0.3.0 in c:\\users\\devils republic\\anaconda3\\lib\\site-packages (from typing-inspect>=0.8.0->llama-index-core<0.12.0,>=0.11.22->llama-index) (1.0.0)\n",
      "Requirement already satisfied: marshmallow<4.0.0,>=3.18.0 in c:\\users\\devils republic\\anaconda3\\lib\\site-packages (from dataclasses-json->llama-index-core<0.12.0,>=0.11.22->llama-index) (3.23.1)\n",
      "Requirement already satisfied: python-dateutil>=2.8.2 in c:\\users\\devils republic\\anaconda3\\lib\\site-packages (from pandas->llama-index-legacy<0.10.0,>=0.9.48->llama-index) (2.8.2)\n",
      "Requirement already satisfied: pytz>=2020.1 in c:\\users\\devils republic\\anaconda3\\lib\\site-packages (from pandas->llama-index-legacy<0.10.0,>=0.9.48->llama-index) (2023.3.post1)\n",
      "Requirement already satisfied: tzdata>=2022.1 in c:\\users\\devils republic\\anaconda3\\lib\\site-packages (from pandas->llama-index-legacy<0.10.0,>=0.9.48->llama-index) (2023.3)\n",
      "Requirement already satisfied: packaging>=17.0 in c:\\users\\devils republic\\anaconda3\\lib\\site-packages (from marshmallow<4.0.0,>=3.18.0->dataclasses-json->llama-index-core<0.12.0,>=0.11.22->llama-index) (23.1)\n",
      "Requirement already satisfied: six>=1.5 in c:\\users\\devils republic\\anaconda3\\lib\\site-packages (from python-dateutil>=2.8.2->pandas->llama-index-legacy<0.10.0,>=0.9.48->llama-index) (1.16.0)\n"
     ]
    }
   ],
   "source": [
    "!pip install llama-index"
   ]
  },
  {
   "cell_type": "markdown",
   "id": "9bb4a703-a725-4a54-8795-bf80ce205b34",
   "metadata": {},
   "source": [
    "Setting up OPEN AI API KEY in the environment"
   ]
  },
  {
   "cell_type": "code",
   "execution_count": null,
   "id": "ec618ca7-0f69-4cd9-9984-a425cb663000",
   "metadata": {},
   "outputs": [],
   "source": [
    "import os\n",
    "os.environ[\"OPENAI_API_KEY\"]=\"YOUR_API_KEY\""
   ]
  },
  {
   "cell_type": "markdown",
   "id": "86fed719-13c9-4935-93d5-95259c6ff533",
   "metadata": {},
   "source": [
    "Setting up original document path"
   ]
  },
  {
   "cell_type": "code",
   "execution_count": 6,
   "id": "5cc30f7a-ce03-4946-a3ea-4e89bc7ac899",
   "metadata": {},
   "outputs": [],
   "source": [
    "f_path=\"C:\\\\Users\\\\Devils Republic\\\\Downloads\\\\alice-in-wonderland.pdf\""
   ]
  },
  {
   "cell_type": "code",
   "execution_count": 7,
   "id": "94695528-c114-44f3-9faf-53940e882fcb",
   "metadata": {},
   "outputs": [],
   "source": [
    "from llama_index.core import SimpleDirectoryReader\n",
    "reader=SimpleDirectoryReader(input_files=[f_path])"
   ]
  },
  {
   "cell_type": "markdown",
   "id": "036d3ace-d189-479c-8fb8-98b5045447a1",
   "metadata": {},
   "source": [
    "loading documents"
   ]
  },
  {
   "cell_type": "code",
   "execution_count": 8,
   "id": "00de679f-9a77-4d9a-8134-ec9744851a87",
   "metadata": {},
   "outputs": [],
   "source": [
    "pdf_documents = reader.load_data()"
   ]
  },
  {
   "cell_type": "markdown",
   "id": "3394b499-1cd1-4ccc-9f9f-4e2598334aff",
   "metadata": {},
   "source": [
    "setting up index"
   ]
  },
  {
   "cell_type": "code",
   "execution_count": 9,
   "id": "1a99c321-f2db-4154-b527-451b317ce688",
   "metadata": {},
   "outputs": [],
   "source": [
    "from llama_index.core import VectorStoreIndex"
   ]
  },
  {
   "cell_type": "code",
   "execution_count": 10,
   "id": "f96fd1d8-d4e8-46e3-b0a6-1e20bc2ad908",
   "metadata": {},
   "outputs": [],
   "source": [
    "index = VectorStoreIndex.from_documents(pdf_documents)"
   ]
  },
  {
   "cell_type": "markdown",
   "id": "5fbc101e-7b5c-4d3f-8e81-910c75ebf12e",
   "metadata": {},
   "source": [
    "# setting up query engine"
   ]
  },
  {
   "cell_type": "code",
   "execution_count": 11,
   "id": "8144ca12-1e8b-4fa2-ac8f-71a4a63e59e5",
   "metadata": {},
   "outputs": [],
   "source": [
    "query_engine = index.as_query_engine()"
   ]
  },
  {
   "cell_type": "markdown",
   "id": "35e4398e-c878-4246-9e90-0ef3b5b94830",
   "metadata": {},
   "source": [
    "asking question"
   ]
  },
  {
   "cell_type": "code",
   "execution_count": 12,
   "id": "cfa6e29e-84e8-4e51-bc94-78f971aa64fd",
   "metadata": {},
   "outputs": [
    {
     "name": "stdout",
     "output_type": "stream",
     "text": [
      "Alice went to a place mentioned in the document located at C:\\Users\\Devils Republic\\Downloads\\alice-in-wonderland.pdf.\n"
     ]
    }
   ],
   "source": [
    "response = query_engine.query(\"where did alice go?\")\n",
    "print(response)"
   ]
  },
  {
   "cell_type": "code",
   "execution_count": 13,
   "id": "037a1b05-d2fc-4f0e-9fcf-d3efceb9ca2a",
   "metadata": {},
   "outputs": [
    {
     "name": "stdout",
     "output_type": "stream",
     "text": [
      "Alice explored various things such as a rabbit hole, a garden, a tea party, and a croquet game.\n"
     ]
    }
   ],
   "source": [
    "response = query_engine.query(\"what are the things Alice explored?\")\n",
    "print(response)"
   ]
  },
  {
   "cell_type": "code",
   "execution_count": 14,
   "id": "353b2db9-aaa9-45dc-b30d-46d5be3d3de8",
   "metadata": {},
   "outputs": [
    {
     "name": "stdout",
     "output_type": "stream",
     "text": [
      "Alice returned by retracing her steps.\n"
     ]
    }
   ],
   "source": [
    "response = query_engine.query(\"how did Alice returned\")\n",
    "print(response)"
   ]
  }
 ],
 "metadata": {
  "kernelspec": {
   "display_name": "Python 3 (ipykernel)",
   "language": "python",
   "name": "python3"
  },
  "language_info": {
   "codemirror_mode": {
    "name": "ipython",
    "version": 3
   },
   "file_extension": ".py",
   "mimetype": "text/x-python",
   "name": "python",
   "nbconvert_exporter": "python",
   "pygments_lexer": "ipython3",
   "version": "3.11.7"
  }
 },
 "nbformat": 4,
 "nbformat_minor": 5
}
