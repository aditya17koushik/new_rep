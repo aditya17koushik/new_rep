{
 "cells": [
  {
   "cell_type": "code",
   "execution_count": null,
   "id": "cc3d20d1-2238-49c9-85f4-e0d977d1bde1",
   "metadata": {},
   "outputs": [],
   "source": [
    "import os\n",
    "os.environ[\"OPENAI_API_KEY\"]=\"YOUR_API_KEY\""
   ]
  },
  {
   "cell_type": "code",
   "execution_count": 2,
   "id": "c1fab72b-b6e6-4867-9b82-33a0bae218b7",
   "metadata": {},
   "outputs": [],
   "source": [
    "def load_llm():\n",
    "        from langchain_openai import ChatOpenAI\n",
    "        llm = ChatOpenAI(model_name=\"gpt-3.5-turbo\", temperature=0) #gpt-4o-mini\n",
    "        return llm"
   ]
  },
  {
   "cell_type": "code",
   "execution_count": 3,
   "id": "f5621a4e-138e-42c6-b137-7c79269b0690",
   "metadata": {},
   "outputs": [],
   "source": [
    "from langchain.prompts import ChatPromptTemplate\n",
    "\n",
    "def load_prompt():\n",
    "        prompt = \"\"\" You need to answer the question in the sentence as same as in the  pdf content. . \n",
    "        Given below is the context and question of the user.\n",
    "        context = {context}\n",
    "        question = {question}\n",
    "        if the answer is not in the pdf , answer \"i donot know what the hell you are asking about\"\n",
    "         \"\"\"\n",
    "        prompt = ChatPromptTemplate.from_template(prompt)\n",
    "        return prompt"
   ]
  },
  {
   "cell_type": "code",
   "execution_count": 4,
   "id": "5bd31def-aaa1-4bad-8991-4e3dc4bccd22",
   "metadata": {},
   "outputs": [],
   "source": [
    "#Import Dependencies\n",
    "from langchain_community.document_loaders import PyPDFLoader\n",
    "from langchain.text_splitter import RecursiveCharacterTextSplitter\n",
    "from langchain_community.vectorstores import FAISS\n",
    "from langchain_openai import OpenAIEmbeddings\n",
    "\n",
    "\n",
    "def load_knowledgeBasee():\n",
    "        embeddings=OpenAIEmbeddings()\n",
    "        DB_FAISS_PATH = 'vectorstore/db_faiss'\n",
    "        db = FAISS.load_local(DB_FAISS_PATH, embeddings,allow_dangerous_deserialization=True)\n",
    "        return db"
   ]
  },
  {
   "cell_type": "code",
   "execution_count": null,
   "id": "13e4003d-41ee-4ea9-a0ca-7a96882d8870",
   "metadata": {},
   "outputs": [],
   "source": [
    "knowledgeBase=load_knowledgeBasee()\n",
    "llm=load_llm()\n",
    "prompt=load_prompt()"
   ]
  },
  {
   "cell_type": "code",
   "execution_count": 6,
   "id": "29121cdc-2ed7-44c1-a602-59faa07773d4",
   "metadata": {},
   "outputs": [],
   "source": [
    "def format_docs(docs):\n",
    "        return \"\\n\\n\".join(doc.page_content for doc in docs)"
   ]
  },
  {
   "cell_type": "code",
   "execution_count": 9,
   "id": "9cc65f6e-6409-42d5-911e-d6fcd60f3527",
   "metadata": {},
   "outputs": [],
   "source": [
    "from langchain_core.runnables import RunnablePassthrough\n",
    "from langchain_core.output_parsers import StrOutputParser\n",
    "query = \"who is krishna\"\n",
    "if True:\n",
    "    similar_embeddings=knowledgeBase.similarity_search(query)\n",
    "    similar_embeddings=FAISS.from_documents(documents=similar_embeddings, embedding=OpenAIEmbeddings())\n",
    "                \n",
    "    #creating the chain for integrating llm,prompt,stroutputparser\n",
    "    retriever = similar_embeddings.as_retriever()\n",
    "    rag_chain = (\n",
    "                        {\"context\": retriever | format_docs, \"question\": RunnablePassthrough()}\n",
    "                        | prompt\n",
    "                        | llm\n",
    "                        | StrOutputParser()\n",
    "                    )\n",
    "                \n",
    "    response=rag_chain.invoke(query)"
   ]
  },
  {
   "cell_type": "code",
   "execution_count": 10,
   "id": "e8a8db45-9254-4eac-903f-0f9e12171b64",
   "metadata": {},
   "outputs": [
    {
     "data": {
      "text/plain": [
       "'Krishna is described as the reservoir of pleasure, the primeval cause of everything, and the cause of all causes in the Brahma-saµhitå. He is also known as Govinda, one who gives pleasure to the senses. Krishna establishes Himself as the source of the material and spiritual worlds, the origin of Brahman and Paramåtmå, and the origin of Nåråya√a in Vaiku√†ha.'"
      ]
     },
     "execution_count": 10,
     "metadata": {},
     "output_type": "execute_result"
    }
   ],
   "source": [
    "response"
   ]
  },
  {
   "cell_type": "code",
   "execution_count": null,
   "id": "02a77f00-e6dc-405a-8a37-12ae0ab92c86",
   "metadata": {},
   "outputs": [],
   "source": []
  }
 ],
 "metadata": {
  "kernelspec": {
   "display_name": "base",
   "language": "python",
   "name": "python3"
  },
  "language_info": {
   "codemirror_mode": {
    "name": "ipython",
    "version": 3
   },
   "file_extension": ".py",
   "mimetype": "text/x-python",
   "name": "python",
   "nbconvert_exporter": "python",
   "pygments_lexer": "ipython3",
   "version": "3.12.7"
  }
 },
 "nbformat": 4,
 "nbformat_minor": 5
}
