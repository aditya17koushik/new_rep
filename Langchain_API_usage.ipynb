{
 "cells": [
  {
   "cell_type": "code",
   "execution_count": null,
   "id": "eb9d82fe-64b2-4fc2-a7ea-a0ea83b3382f",
   "metadata": {},
   "outputs": [],
   "source": [
    "import os\n",
    "#os.environ[\"OPENAI_API_KEY\"]=\"\"\n",
    "os.environ[\"OPENAI_API_KEY\"]=\"YOUR_API_KEY\""
   ]
  },
  {
   "cell_type": "code",
   "execution_count": 6,
   "id": "b10b1dce-e4aa-4ee4-8643-b15b4d9bafde",
   "metadata": {},
   "outputs": [
    {
     "name": "stdout",
     "output_type": "stream",
     "text": [
      "Requirement already satisfied: langchain in c:\\users\\janardhan\\anaconda3\\lib\\site-packages (0.2.9)\n",
      "Requirement already satisfied: PyYAML>=5.3 in c:\\users\\janardhan\\anaconda3\\lib\\site-packages (from langchain) (6.0.1)\n",
      "Requirement already satisfied: SQLAlchemy<3,>=1.4 in c:\\users\\janardhan\\anaconda3\\lib\\site-packages (from langchain) (2.0.25)\n",
      "Requirement already satisfied: aiohttp<4.0.0,>=3.8.3 in c:\\users\\janardhan\\anaconda3\\lib\\site-packages (from langchain) (3.9.3)\n",
      "Requirement already satisfied: langchain-core<0.3.0,>=0.2.20 in c:\\users\\janardhan\\anaconda3\\lib\\site-packages (from langchain) (0.2.21)\n",
      "Requirement already satisfied: langchain-text-splitters<0.3.0,>=0.2.0 in c:\\users\\janardhan\\anaconda3\\lib\\site-packages (from langchain) (0.2.2)\n",
      "Requirement already satisfied: langsmith<0.2.0,>=0.1.17 in c:\\users\\janardhan\\anaconda3\\lib\\site-packages (from langchain) (0.1.90)\n",
      "Requirement already satisfied: numpy<2,>=1 in c:\\users\\janardhan\\anaconda3\\lib\\site-packages (from langchain) (1.26.4)\n",
      "Requirement already satisfied: pydantic<3,>=1 in c:\\users\\janardhan\\anaconda3\\lib\\site-packages (from langchain) (2.8.2)\n",
      "Requirement already satisfied: requests<3,>=2 in c:\\users\\janardhan\\anaconda3\\lib\\site-packages (from langchain) (2.31.0)\n",
      "Requirement already satisfied: tenacity!=8.4.0,<9.0.0,>=8.1.0 in c:\\users\\janardhan\\anaconda3\\lib\\site-packages (from langchain) (8.2.2)\n",
      "Requirement already satisfied: aiosignal>=1.1.2 in c:\\users\\janardhan\\anaconda3\\lib\\site-packages (from aiohttp<4.0.0,>=3.8.3->langchain) (1.2.0)\n",
      "Requirement already satisfied: attrs>=17.3.0 in c:\\users\\janardhan\\anaconda3\\lib\\site-packages (from aiohttp<4.0.0,>=3.8.3->langchain) (23.1.0)\n",
      "Requirement already satisfied: frozenlist>=1.1.1 in c:\\users\\janardhan\\anaconda3\\lib\\site-packages (from aiohttp<4.0.0,>=3.8.3->langchain) (1.4.0)\n",
      "Requirement already satisfied: multidict<7.0,>=4.5 in c:\\users\\janardhan\\anaconda3\\lib\\site-packages (from aiohttp<4.0.0,>=3.8.3->langchain) (6.0.4)\n",
      "Requirement already satisfied: yarl<2.0,>=1.0 in c:\\users\\janardhan\\anaconda3\\lib\\site-packages (from aiohttp<4.0.0,>=3.8.3->langchain) (1.9.3)\n",
      "Requirement already satisfied: jsonpatch<2.0,>=1.33 in c:\\users\\janardhan\\anaconda3\\lib\\site-packages (from langchain-core<0.3.0,>=0.2.20->langchain) (1.33)\n",
      "Requirement already satisfied: packaging<25,>=23.2 in c:\\users\\janardhan\\anaconda3\\lib\\site-packages (from langchain-core<0.3.0,>=0.2.20->langchain) (24.1)\n",
      "Requirement already satisfied: orjson<4.0.0,>=3.9.14 in c:\\users\\janardhan\\anaconda3\\lib\\site-packages (from langsmith<0.2.0,>=0.1.17->langchain) (3.10.6)\n",
      "Requirement already satisfied: annotated-types>=0.4.0 in c:\\users\\janardhan\\anaconda3\\lib\\site-packages (from pydantic<3,>=1->langchain) (0.7.0)\n",
      "Requirement already satisfied: pydantic-core==2.20.1 in c:\\users\\janardhan\\anaconda3\\lib\\site-packages (from pydantic<3,>=1->langchain) (2.20.1)\n",
      "Requirement already satisfied: typing-extensions>=4.6.1 in c:\\users\\janardhan\\anaconda3\\lib\\site-packages (from pydantic<3,>=1->langchain) (4.12.2)\n",
      "Requirement already satisfied: charset-normalizer<4,>=2 in c:\\users\\janardhan\\anaconda3\\lib\\site-packages (from requests<3,>=2->langchain) (3.3.2)\n",
      "Requirement already satisfied: idna<4,>=2.5 in c:\\users\\janardhan\\anaconda3\\lib\\site-packages (from requests<3,>=2->langchain) (3.4)\n",
      "Requirement already satisfied: urllib3<3,>=1.21.1 in c:\\users\\janardhan\\anaconda3\\lib\\site-packages (from requests<3,>=2->langchain) (2.0.7)\n",
      "Requirement already satisfied: certifi>=2017.4.17 in c:\\users\\janardhan\\anaconda3\\lib\\site-packages (from requests<3,>=2->langchain) (2024.2.2)\n",
      "Requirement already satisfied: greenlet!=0.4.17 in c:\\users\\janardhan\\anaconda3\\lib\\site-packages (from SQLAlchemy<3,>=1.4->langchain) (3.0.1)\n",
      "Requirement already satisfied: jsonpointer>=1.9 in c:\\users\\janardhan\\anaconda3\\lib\\site-packages (from jsonpatch<2.0,>=1.33->langchain-core<0.3.0,>=0.2.20->langchain) (2.1)\n"
     ]
    }
   ],
   "source": [
    "!pip install langchain"
   ]
  },
  {
   "cell_type": "code",
   "execution_count": 7,
   "id": "308a4bf2-30d9-4328-bee5-0916b05174f3",
   "metadata": {},
   "outputs": [],
   "source": [
    "from langchain.llms import OpenAI"
   ]
  },
  {
   "cell_type": "code",
   "execution_count": 8,
   "id": "f254bbe8-93b3-400d-a8f1-84e829282557",
   "metadata": {},
   "outputs": [],
   "source": [
    "model = OpenAI()\n"
   ]
  },
  {
   "cell_type": "code",
   "execution_count": 9,
   "id": "4e04f0c4-7c9d-4dd7-aa5e-0bedc9b9fd59",
   "metadata": {},
   "outputs": [
    {
     "data": {
      "text/plain": [
       "'\\n\\nThe new first law, also known as the law of conservation of energy, states that energy cannot be created or destroyed, only transformed from one form to another. This law is a fundamental principle in physics and has wide-reaching implications in fields such as engineering, chemistry, and biology.'"
      ]
     },
     "execution_count": 9,
     "metadata": {},
     "output_type": "execute_result"
    }
   ],
   "source": [
    "model.invoke(\"provide me details about new first law in two sentences\")"
   ]
  },
  {
   "cell_type": "code",
   "execution_count": 11,
   "id": "35401565-f314-4a1f-b9a3-8ce4109013ce",
   "metadata": {},
   "outputs": [
    {
     "name": "stderr",
     "output_type": "stream",
     "text": [
      "C:\\Users\\JANARDHAN\\anaconda3\\Lib\\site-packages\\langchain_core\\_api\\deprecation.py:139: LangChainDeprecationWarning: The class `ChatOpenAI` was deprecated in LangChain 0.0.10 and will be removed in 0.3.0. An updated version of the class exists in the langchain-openai package and should be used instead. To use it run `pip install -U langchain-openai` and import as `from langchain_openai import ChatOpenAI`.\n",
      "  warn_deprecated(\n"
     ]
    }
   ],
   "source": [
    "from langchain.chat_models import ChatOpenAI\n",
    "chat=ChatOpenAI()"
   ]
  },
  {
   "cell_type": "code",
   "execution_count": 16,
   "id": "92a177e0-8348-4ef5-bc54-891e805a05e0",
   "metadata": {},
   "outputs": [
    {
     "name": "stdout",
     "output_type": "stream",
     "text": [
      "Thermodynamics is the branch of physics that deals with the relationships between heat, work, and energy. It describes how energy is transferred and transformed in physical systems, such as engines and refrigerators. The laws of thermodynamics govern these processes and provide fundamental principles for understanding and predicting the behavior of energy in various systems.\n"
     ]
    }
   ],
   "source": [
    "from langchain.schema.messages import HumanMessage,SystemMessage\n",
    "messages=[\n",
    " SystemMessage(content=\"you are {} teacher\"),\n",
    " HumanMessage(content=\"explain about {} in three sentence\"),\n",
    "]\n",
    "responses=chat.invoke(messages)\n",
    "print(responses.content)\n"
   ]
  },
  {
   "cell_type": "code",
   "execution_count": 17,
   "id": "a2a96fe0-532d-4a20-bcc6-b4095735834b",
   "metadata": {},
   "outputs": [
    {
     "name": "stdout",
     "output_type": "stream",
     "text": [
      "Thermodynamics is the branch of physics that deals with the relationships between heat, work, and energy. It studies how heat and energy are converted into different forms and how they flow from one system to another. The laws of thermodynamics govern these processes and help us understand and predict the behavior of physical systems."
     ]
    }
   ],
   "source": [
    "response1=chat.stream(messages)\n",
    "for i1 in response1:\n",
    " print(i1.content,end=\"\",flush=True)\n"
   ]
  },
  {
   "cell_type": "code",
   "execution_count": 18,
   "id": "73d53443-20e9-4b03-a84d-0753c3d5c5d9",
   "metadata": {},
   "outputs": [],
   "source": [
    "from langchain.prompts import PromptTemplate\n"
   ]
  },
  {
   "cell_type": "code",
   "execution_count": 19,
   "id": "d14cf48d-07fe-4e77-a63a-13fb7c7b4d8a",
   "metadata": {},
   "outputs": [],
   "source": [
    "prompt_template=PromptTemplate.from_template(\n",
    " \"as a {role} tellme about {content}.\"\n",
    ")\n"
   ]
  },
  {
   "cell_type": "code",
   "execution_count": 20,
   "id": "f840a82a-82d8-44c1-be31-b9d5b9c7bf35",
   "metadata": {},
   "outputs": [
    {
     "name": "stdout",
     "output_type": "stream",
     "text": [
      "as a Astrologer tellme about galaxy.\n"
     ]
    }
   ],
   "source": [
    "filled_prompt=prompt_template.format(role=\"Astrologer\", content=\"galaxy\")\n",
    "print(filled_prompt)\n"
   ]
  },
  {
   "cell_type": "code",
   "execution_count": 21,
   "id": "32e7cfad-ccc3-470d-93b3-c48086285b28",
   "metadata": {},
   "outputs": [],
   "source": [
    "prompt_and_model=prompt_template|model"
   ]
  },
  {
   "cell_type": "code",
   "execution_count": 22,
   "id": "a5198550-52de-4b37-957f-383da16cb369",
   "metadata": {},
   "outputs": [
    {
     "name": "stdout",
     "output_type": "stream",
     "text": [
      "\n",
      "\n",
      "As an Astrologer, I am not an expert on galaxies in terms of astronomy, but I can share some insights based on the astrological perspective.\n",
      "\n",
      "In astrology, the concept of galaxy is related to the zodiac signs and the constellations that make up the night sky. The 12 zodiac signs are often referred to as the \"12 houses of the zodiac galaxy,\" with each sign representing a different aspect of life and human experience.\n",
      "\n",
      "The constellations, which are groups of stars in the sky, also hold significance in astrology. They are believed to have an influence on the energy and characteristics of the zodiac signs that fall within them.\n",
      "\n",
      "From an astrological perspective, the galaxy is seen as a vast and ever-expanding system that contains the energy and influences of the zodiac signs and constellations. It is believed that the placement of planets and stars within the galaxy at the time of a person's birth can reveal insights about their personality, strengths, and challenges.\n",
      "\n",
      "The study of astrology also includes the use of galaxies and their movements to make predictions about future events and understand the patterns and cycles of life.\n",
      "\n",
      "In summary, the galaxy is an essential element in astrology, representing the vastness and complexity of the universe and its influence on the individual\n"
     ]
    }
   ],
   "source": [
    "output=prompt_and_model.invoke({\"role\":\"Astrologer\",\"content\":\"galaxy\"})\n",
    "print(output)\n"
   ]
  },
  {
   "cell_type": "code",
   "execution_count": 23,
   "id": "e90f64d4-726a-4e0d-8874-74b5d9b45ee7",
   "metadata": {},
   "outputs": [
    {
     "name": "stdout",
     "output_type": "stream",
     "text": [
      "\n",
      "\n",
      "A covalent bond is a type of chemical bond where two atoms share a pair of electrons in order to achieve a more stable electron configuration. This type of bond typically occurs between nonmetal atoms. Covalent bonds are strong and result in the formation of molecules.\n",
      "\n",
      "The sharing of electrons in a covalent bond is referred to as a \"shared pair\" or \"bonded pair\". This sharing of electrons allows each atom to achieve a full outer shell of electrons, which is a more stable configuration. The number of electrons shared between atoms in a covalent bond is determined by the octet rule, which states that atoms tend to gain, lose, or share electrons in order to achieve a full outer shell of eight electrons.\n",
      "\n",
      "Covalent bonds can be either polar or nonpolar. In a polar covalent bond, the shared electrons are not equally distributed between the two atoms, resulting in a slight separation of charge. This occurs when one atom has a higher electronegativity (ability to attract electrons) than the other. In a nonpolar covalent bond, the shared electrons are equally distributed between the two atoms.\n",
      "\n",
      "There are different types of covalent bonds, including single, double, and triple bonds. In a single bond\n"
     ]
    }
   ],
   "source": [
    "output=prompt_and_model.invoke({\"role\":\"Chemistry\",\"content\":\"covalent bond\"})\n",
    "print(output)"
   ]
  },
  {
   "cell_type": "code",
   "execution_count": null,
   "id": "dbcf1410-e74f-4889-803d-5183d8b2abe1",
   "metadata": {},
   "outputs": [],
   "source": []
  }
 ],
 "metadata": {
  "kernelspec": {
   "display_name": "Python 3 (ipykernel)",
   "language": "python",
   "name": "python3"
  },
  "language_info": {
   "codemirror_mode": {
    "name": "ipython",
    "version": 3
   },
   "file_extension": ".py",
   "mimetype": "text/x-python",
   "name": "python",
   "nbconvert_exporter": "python",
   "pygments_lexer": "ipython3",
   "version": "3.11.7"
  }
 },
 "nbformat": 4,
 "nbformat_minor": 5
}
